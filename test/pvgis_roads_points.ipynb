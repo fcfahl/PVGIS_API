{
 "cells": [
  {
   "cell_type": "code",
   "execution_count": 17,
   "id": "da541e2d",
   "metadata": {},
   "outputs": [],
   "source": [
    "import os, csv, json, requests\n",
    "import pandas as pd\n",
    "import numpy as np\n",
    "from datetime import datetime, timedelta\n",
    "from IPython.display import clear_output\n",
    "\n",
    "from pathlib import Path\n",
    "pd.options.display.float_format = '{:.2f}'.format"
   ]
  },
  {
   "cell_type": "code",
   "execution_count": 3,
   "id": "0fead04b",
   "metadata": {},
   "outputs": [],
   "source": [
    "home = Path(os.getcwd())\n",
    "xls_file = home.joinpath('SLE_results1.13.xlsx')\n",
    "csv_outfile = home.joinpath('SLE_results1.13_PVGIS.csv')\n"
   ]
  },
  {
   "cell_type": "markdown",
   "id": "552c6448-7c33-4d53-af66-673c808084e5",
   "metadata": {},
   "source": [
    "### pandas"
   ]
  },
  {
   "cell_type": "code",
   "execution_count": 24,
   "id": "014d6b49",
   "metadata": {},
   "outputs": [
    {
     "name": "stdout",
     "output_type": "stream",
     "text": [
      "   idSet  latitude  longitude\n",
      "0      1      7.82     -10.92\n",
      "1      2      8.28     -10.38\n"
     ]
    }
   ],
   "source": [
    "df_xls = pd.read_excel(xls_file)\n",
    "\n",
    "columns = ['idSet','latitude','longitude']\n",
    "# df = df_xls[columns].copy()\n",
    "\n",
    "df = df_xls[columns].head(2).copy() # test only\n",
    "\n",
    "print(df)"
   ]
  },
  {
   "cell_type": "markdown",
   "id": "71df0ab8-43d2-4631-bc8e-5b1b804381a5",
   "metadata": {},
   "source": [
    "### create urls"
   ]
  },
  {
   "cell_type": "code",
   "execution_count": 25,
   "id": "1f351a93",
   "metadata": {},
   "outputs": [],
   "source": [
    "def get_url(lat, lon):    \n",
    "    \n",
    "    url_base = \"https://re.jrc.ec.europa.eu/api/v5_2/seriescalc?\"\n",
    "    \n",
    "    pvgis_params = dict(\n",
    "        peakpower=1,\n",
    "        loss=14,\n",
    "        startyear=2010,\n",
    "        endyear=2020,\n",
    "        pvcalculation=1, # \"0\" outputs only solar radiation calculations, \"1\" outputs the estimation of hourly PV production as well\n",
    "        angle = 90,\n",
    "        aspect = 90,\n",
    "        lat=lat,\n",
    "        lon=lon,\n",
    "        outputformat = 'json',\n",
    "    )\n",
    "\n",
    "    return url_base + \"&\".join([f'{key}={value}' for key, value in pvgis_params.items()])\n"
   ]
  },
  {
   "cell_type": "code",
   "execution_count": 26,
   "id": "62d7339f-9588-491c-a072-42254d69b43c",
   "metadata": {},
   "outputs": [],
   "source": [
    "def get_azimuth_from_latitude(lat):\n",
    "\n",
    "    if float(lat) < 0:\n",
    "        azimuth = 180\n",
    "    else:\n",
    "        azimuth=0\n",
    "\n",
    "    return azimuth\n"
   ]
  },
  {
   "cell_type": "code",
   "execution_count": 32,
   "id": "36b52fad-0f64-4be5-a2f0-ae23b6fb87a4",
   "metadata": {},
   "outputs": [],
   "source": [
    "def parse_json(id, data, csv_file):    \n",
    "    \n",
    "     # ____________ parse data to df\n",
    "    df_locations    = pd.json_normalize(data.get('inputs'))\n",
    "    df_output       = pd.json_normalize(data.get('outputs').get('hourly'))    \n",
    "\n",
    "    df_power         = df_output[['time', 'P']].copy() \n",
    "    df_power['time'] = pd.to_datetime(df_power['time'], format='%Y%m%d:%H%M').round('H').dt.strftime('%Y-%m-%d:%H')\n",
    "    \n",
    "    print (df_power.head())\n",
    "    \n",
    "    # ____________ transpose df\n",
    "    # df_tranpose = df_power[['P']].transpose()    \n",
    "    \n",
    "    \n",
    "    df_tranpose = df_power.set_index('time').T\n",
    "    \n",
    "    # ____________ add id\n",
    "    df_tranpose.insert(0, 'id', id)\n",
    "    \n",
    "    print (df_tranpose.head())\n",
    "    \n",
    "    return df_tranpose\n",
    "\n",
    "    \n",
    "#     # _____________ parse data from pvgis\n",
    "#     pvgis_inputs  = data.get('inputs')\n",
    "#     pvgis_outputs = data.get('outputs')\n",
    "    \n",
    "#     # _____________ get specific parameters data from pvgis\n",
    "#     location = pvgis_inputs.get('location')\n",
    "#     latitude = location.get('latitude')\n",
    "#     longitude = location.get('longitude')\n",
    "    \n",
    "#     slope_optimized       = pvgis_inputs.get('mounting_system').get('fixed').get('slope').get('value')\n",
    "#     azimuth_non_optimized = pvgis_inputs.get('mounting_system').get('fixed').get('azimuth').get('value')\n",
    "#     azimuth_corrected     = get_azimuth_from_latitude(latitude)\n",
    "    \n",
    "\n",
    "#     # _____________ create a new dict with filtered json data\n",
    "#     inputs = location\n",
    "#     outputs = dict(hourly = pvgis_outputs.get('hourly'))\n",
    "#     parameters = dict(\n",
    "#             id=id, \n",
    "#             slope_optimized=slope_optimized, \n",
    "#             azimuth_non_optimized=azimuth_non_optimized,\n",
    "#             azimuth_corrected=azimuth_corrected,\n",
    "#             # url = url\n",
    "#         )      \n",
    "    \n",
    "#     # _____________ merge dicts         \n",
    "#     merged_dict = dict(inputs = inputs, outputs=outputs, parameters=parameters)\n",
    "    \n",
    "#     print (merged_dict)\n",
    "    \n",
    "#     # _____________ save json\n",
    "#     with open(json_file, 'w') as outfile:\n",
    "#         json.dump(merged_dict, outfile)\n",
    "\n",
    "    \n",
    "    "
   ]
  },
  {
   "cell_type": "markdown",
   "id": "fb87506f-4340-4b45-b0d7-e810da19b7de",
   "metadata": {},
   "source": [
    "### query PVGIS"
   ]
  },
  {
   "cell_type": "code",
   "execution_count": 33,
   "id": "4135047b",
   "metadata": {
    "tags": []
   },
   "outputs": [
    {
     "name": "stdout",
     "output_type": "stream",
     "text": [
      "https://re.jrc.ec.europa.eu/api/v5_2/seriescalc?peakpower=1&loss=14&startyear=2010&endyear=2020&pvcalculation=1&angle=90&aspect=90&lat=7.822542&lon=-10.92325&outputformat=json\n",
      "            time    P\n",
      "0  2010-01-01:00 0.00\n",
      "1  2010-01-01:01 0.00\n",
      "2  2010-01-01:02 0.00\n",
      "3  2010-01-01:03 0.00\n",
      "4  2010-01-01:04 0.00\n",
      "   id    0    1    2    3    4    5    6    7     8  ...  96422  96423  96424  \\\n",
      "P   1 0.00 0.00 0.00 0.00 0.00 0.00 0.00 0.00 25.95  ... 312.49 437.39 490.31   \n",
      "\n",
      "   96425  96426  96427  96428  96429  96430  96431  \n",
      "P 424.86 159.47   0.00   0.00   0.00   0.00   0.00  \n",
      "\n",
      "[1 rows x 96433 columns]\n",
      "https://re.jrc.ec.europa.eu/api/v5_2/seriescalc?peakpower=1&loss=14&startyear=2010&endyear=2020&pvcalculation=1&angle=90&aspect=90&lat=8.282627&lon=-10.37537&outputformat=json\n",
      "            time    P\n",
      "0  2010-01-01:00 0.00\n",
      "1  2010-01-01:01 0.00\n",
      "2  2010-01-01:02 0.00\n",
      "3  2010-01-01:03 0.00\n",
      "4  2010-01-01:04 0.00\n",
      "   id    0    1    2    3    4    5    6    7     8  ...  96422  96423  96424  \\\n",
      "P   2 0.00 0.00 0.00 0.00 0.00 0.00 0.00 0.00 30.84  ... 324.59 454.72 497.25   \n",
      "\n",
      "   96425  96426  96427  96428  96429  96430  96431  \n",
      "P 441.72 164.97   0.00   0.00   0.00   0.00   0.00  \n",
      "\n",
      "[1 rows x 96433 columns]\n"
     ]
    }
   ],
   "source": [
    "i = 0\n",
    "dfs = dict()\n",
    "\n",
    "for idx, row in df.iterrows(): \n",
    "    \n",
    "    id = row['idSet'].astype(int)\n",
    "    lat = row['latitude'].astype(str)\n",
    "    lon = row['longitude'].astype(str)\n",
    "    url = get_url (lat,lon)\n",
    "    \n",
    "    csv_file = home.joinpath('csv', f\"SLE_{id}.csv\")\n",
    "    \n",
    "    print (url)\n",
    "\n",
    "    response = requests.get(url)\n",
    "    row_json = json.loads(response.text)    \n",
    "\n",
    "    # try:    \n",
    "        # _____________ parse data from pvgis\n",
    "    dfs[id] = parse_json(id, row_json, csv_file)\n",
    "        # e_y = row_json.get('outputs').get('totals').get('fixed').get('E_y')\n",
    "        # print (f'i:{i}\\tid: {id}\\tside: \\tradiation: {e_y}')\n",
    "#     except:\n",
    "        \n",
    "#         print ('error')\n",
    "#         # e_y = -9999\n",
    "#         # print (f'i:{i}\\t\\t\\tERROR\\nid: {id}\\tside: \\tradiation: {e_y}\\t\\tlat: {lat}\\tlon: {lon}')            \n",
    "\n",
    "    # _____________ update df\n",
    "    # df.loc[df[\"idSet\"] == id, \"E_Y\"] = e_y\n",
    "\n",
    "#     # _____________ save partial results\n",
    "#     if i > 100:  \n",
    "#         print ('_____________________________')\n",
    "#         df.to_csv(csv_outfile, index = False)\n",
    "#         i = 0\n",
    "#         clear_output(wait=False)\n",
    "\n",
    "#     i +=1\n",
    "            \n",
    "\n",
    "# print (df.head())\n",
    "# _____________ save final results\n",
    "\n",
    "df_merged = pd.concat(dfs.values(), ignore_index=True)\n",
    "\n",
    "df_merged.to_csv(csv_outfile, index = False)"
   ]
  },
  {
   "cell_type": "code",
   "execution_count": null,
   "id": "3eeca387",
   "metadata": {},
   "outputs": [],
   "source": []
  },
  {
   "cell_type": "code",
   "execution_count": null,
   "id": "6a40d361",
   "metadata": {},
   "outputs": [],
   "source": []
  },
  {
   "cell_type": "code",
   "execution_count": null,
   "id": "34300b06",
   "metadata": {},
   "outputs": [],
   "source": []
  },
  {
   "cell_type": "code",
   "execution_count": null,
   "id": "cb582b0e",
   "metadata": {},
   "outputs": [],
   "source": []
  },
  {
   "cell_type": "code",
   "execution_count": null,
   "id": "298b8120",
   "metadata": {},
   "outputs": [],
   "source": []
  },
  {
   "cell_type": "code",
   "execution_count": null,
   "id": "5501f593",
   "metadata": {},
   "outputs": [],
   "source": []
  },
  {
   "cell_type": "code",
   "execution_count": null,
   "id": "9b6ed33f",
   "metadata": {},
   "outputs": [],
   "source": []
  },
  {
   "cell_type": "code",
   "execution_count": null,
   "id": "260e78fb",
   "metadata": {},
   "outputs": [],
   "source": []
  },
  {
   "cell_type": "code",
   "execution_count": null,
   "id": "3ea09dcb",
   "metadata": {},
   "outputs": [],
   "source": []
  },
  {
   "cell_type": "code",
   "execution_count": null,
   "id": "38087ffa",
   "metadata": {},
   "outputs": [],
   "source": []
  },
  {
   "cell_type": "code",
   "execution_count": null,
   "id": "e980aeb6",
   "metadata": {},
   "outputs": [],
   "source": []
  },
  {
   "cell_type": "code",
   "execution_count": null,
   "id": "a8ee1eed",
   "metadata": {},
   "outputs": [],
   "source": []
  },
  {
   "cell_type": "code",
   "execution_count": null,
   "id": "4b0ab641",
   "metadata": {},
   "outputs": [],
   "source": []
  },
  {
   "cell_type": "code",
   "execution_count": null,
   "id": "7aad5a55",
   "metadata": {},
   "outputs": [],
   "source": []
  }
 ],
 "metadata": {
  "kernelspec": {
   "display_name": "Python 3 (ipykernel)",
   "language": "python",
   "name": "python3"
  },
  "language_info": {
   "codemirror_mode": {
    "name": "ipython",
    "version": 3
   },
   "file_extension": ".py",
   "mimetype": "text/x-python",
   "name": "python",
   "nbconvert_exporter": "python",
   "pygments_lexer": "ipython3",
   "version": "3.10.9"
  }
 },
 "nbformat": 4,
 "nbformat_minor": 5
}
