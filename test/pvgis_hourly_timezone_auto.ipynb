{
 "cells": [
  {
   "cell_type": "code",
   "execution_count": 1,
   "id": "da541e2d",
   "metadata": {},
   "outputs": [],
   "source": [
    "# https://joint-research-centre.ec.europa.eu/pvgis-online-tool/getting-started-pvgis/api-non-interactive-service_en\n",
    "\n",
    "import os, csv, json, requests\n",
    "import pandas as pd\n",
    "import numpy as np\n",
    "from datetime import datetime, timedelta\n",
    "from IPython.display import clear_output\n",
    "\n",
    "from pathlib import Path\n",
    "pd.options.display.float_format = '{:.2f}'.format"
   ]
  },
  {
   "cell_type": "markdown",
   "id": "c023ff72-c38d-445b-8a50-179b7d35828f",
   "metadata": {},
   "source": [
    "### Parameters"
   ]
  },
  {
   "cell_type": "code",
   "execution_count": 2,
   "id": "22ebe686-3102-413f-ba7e-19efa35be738",
   "metadata": {},
   "outputs": [],
   "source": [
    "startyear     = 2020\n",
    "endyear       = 2020\n",
    "peakpower     = 1\n",
    "loss          = 14\n",
    "pvcalculation = 1 # \"0\" outputs only solar radiation calculations, \"1\" outputs the estimation of hourly PV production as well\n",
    "optimalangles = 1 #  Value of 1 for \"yes\". All other values (or no value) mean \"no\". \n",
    "localtime     = 1 # Output the time in the local time zone (not daylight saving time), instead of UTC. Value of 1 for \"yes\". All other values (or no value) mean \"no\". Daylight saving time is NOT taken into account.\n",
    "\n",
    "# excel_filename = 'SLE_results1.13.xlsx'\n",
    "\n",
    "excel_filename = \"TMP_test_Congo.xlsx\"\n",
    "\n",
    "#### it seems local time does not work"
   ]
  },
  {
   "cell_type": "markdown",
   "id": "8d5727d7-9d1c-44af-96bf-3464f6146891",
   "metadata": {},
   "source": [
    "### File names"
   ]
  },
  {
   "cell_type": "code",
   "execution_count": 3,
   "id": "0fead04b",
   "metadata": {},
   "outputs": [],
   "source": [
    "home        = Path(os.getcwd())\n",
    "xls_file    = home.joinpath(excel_filename)\n",
    "csv_outfile = home.joinpath(f'{xls_file.stem}_PVGIS_year{startyear}to{endyear}.csv')\n"
   ]
  },
  {
   "cell_type": "markdown",
   "id": "552c6448-7c33-4d53-af66-673c808084e5",
   "metadata": {},
   "source": [
    "### pandas"
   ]
  },
  {
   "cell_type": "code",
   "execution_count": 14,
   "id": "014d6b49",
   "metadata": {},
   "outputs": [
    {
     "name": "stdout",
     "output_type": "stream",
     "text": [
      "   idSet  latitude  longitude\n",
      "0      1      0.80      19.20\n",
      "1      2     -2.20      17.06\n",
      "2      3     -5.45      17.50\n",
      "3      4     -1.80      19.92\n",
      "4      5      1.89      21.05\n",
      "5      6      2.42      26.83\n",
      "6      7      0.35      28.93\n",
      "7      8     -4.86      26.89\n",
      "8      9     -5.71      23.32\n",
      "9     10    -10.23      26.09\n"
     ]
    }
   ],
   "source": [
    "df_xls = pd.read_excel(xls_file)\n",
    "\n",
    "columns = ['idSet','latitude','longitude']\n",
    "df = df_xls[columns].copy()\n",
    "\n",
    "# df = df_xls[columns].head(2).copy() # test only\n",
    "\n",
    "print(df.head(10))"
   ]
  },
  {
   "cell_type": "markdown",
   "id": "71df0ab8-43d2-4631-bc8e-5b1b804381a5",
   "metadata": {},
   "source": [
    "### create urls"
   ]
  },
  {
   "cell_type": "code",
   "execution_count": 15,
   "id": "1f351a93",
   "metadata": {},
   "outputs": [],
   "source": [
    "def get_url(lat, lon):    \n",
    "    \n",
    "    url_base = \"https://re.jrc.ec.europa.eu/api/v5_2/seriescalc?\"\n",
    "    \n",
    "    pvgis_params = dict(\n",
    "        peakpower=peakpower,\n",
    "        loss=loss,\n",
    "        localtime=localtime,\n",
    "        startyear=startyear,\n",
    "        endyear=endyear,\n",
    "        pvcalculation=pvcalculation, # \"0\" outputs only solar radiation calculations, \"1\" outputs the estimation of hourly PV production as well\n",
    "        optimalangles=optimalangles,\n",
    "        lat=lat,\n",
    "        lon=lon,\n",
    "        outputformat = 'json',\n",
    "    )   \n",
    "\n",
    "    return url_base + \"&\".join([f'{key}={value}' for key, value in pvgis_params.items()])\n"
   ]
  },
  {
   "cell_type": "code",
   "execution_count": 16,
   "id": "36b52fad-0f64-4be5-a2f0-ae23b6fb87a4",
   "metadata": {},
   "outputs": [],
   "source": [
    "def parse_json(id, data, csv_file):    \n",
    "    \n",
    "    # ____________ parse data to df\n",
    "    df_input        = pd.json_normalize(data.get('inputs'))\n",
    "    df_output       = pd.json_normalize(data.get('outputs').get('hourly'))        \n",
    "    latitude        = df_input['location.latitude'].values\n",
    "    \n",
    "    # ____________ get optimal angles\n",
    "    slope_optimized   = df_input['mounting_system.fixed.slope.value'].values\n",
    "    azimuth_optimized = df_input['mounting_system.fixed.azimuth.value'].values    \n",
    "    azimuth_corrected = 0 if float(latitude) < 0 else 180\n",
    "\n",
    "    # ____________ convert the 'Date' column to datetime format: round minutes from timestamp (do not trunc the timestamp - it would cause a shift in some readings)\n",
    "    df_power               = df_output[['time', 'P']].copy() \n",
    "    df_power['time']       = pd.to_datetime(df_power['time'], format='%Y%m%d:%H%M').round('H').dt.strftime('%Y-%m-%d:%H')   \n",
    "    \n",
    "    # ____________ set datetime index\n",
    "    df_power = df_power.set_index(df_power['time'])\n",
    "    \n",
    "    # ____________ transpose df\n",
    "    df_tranpose = df_power[['P']].transpose()   \n",
    "    \n",
    "    # ____________ add columns\n",
    "    df_tranpose.insert(0, 'azimuth_corrected', azimuth_corrected)\n",
    "    df_tranpose.insert(0, 'azimuth', azimuth_optimized)\n",
    "    df_tranpose.insert(0, 'slope', slope_optimized)\n",
    "    df_tranpose.insert(0, 'id', id)\n",
    "    \n",
    "    return df_tranpose   \n",
    "    "
   ]
  },
  {
   "cell_type": "markdown",
   "id": "fb87506f-4340-4b45-b0d7-e810da19b7de",
   "metadata": {},
   "source": [
    "### query PVGIS"
   ]
  },
  {
   "cell_type": "code",
   "execution_count": 18,
   "id": "4135047b",
   "metadata": {
    "tags": []
   },
   "outputs": [
    {
     "name": "stdout",
     "output_type": "stream",
     "text": [
      "https://re.jrc.ec.europa.eu/api/v5_2/seriescalc?peakpower=1&loss=14&localtime=1&startyear=2020&endyear=2020&pvcalculation=1&optimalangles=1&lat=0.8&lon=19.198&outputformat=json\n",
      "https://re.jrc.ec.europa.eu/api/v5_2/seriescalc?peakpower=1&loss=14&localtime=1&startyear=2020&endyear=2020&pvcalculation=1&optimalangles=1&lat=-2.201&lon=17.059&outputformat=json\n",
      "https://re.jrc.ec.europa.eu/api/v5_2/seriescalc?peakpower=1&loss=14&localtime=1&startyear=2020&endyear=2020&pvcalculation=1&optimalangles=1&lat=-5.449&lon=17.5&outputformat=json\n",
      "https://re.jrc.ec.europa.eu/api/v5_2/seriescalc?peakpower=1&loss=14&localtime=1&startyear=2020&endyear=2020&pvcalculation=1&optimalangles=1&lat=-1.801&lon=19.921&outputformat=json\n",
      "https://re.jrc.ec.europa.eu/api/v5_2/seriescalc?peakpower=1&loss=14&localtime=1&startyear=2020&endyear=2020&pvcalculation=1&optimalangles=1&lat=1.893&lon=21.045&outputformat=json\n",
      "https://re.jrc.ec.europa.eu/api/v5_2/seriescalc?peakpower=1&loss=14&localtime=1&startyear=2020&endyear=2020&pvcalculation=1&optimalangles=1&lat=2.416&lon=26.832&outputformat=json\n",
      "error parse json id: 6, lat:2.416, lon:26.832\n",
      "https://re.jrc.ec.europa.eu/api/v5_2/seriescalc?peakpower=1&loss=14&localtime=1&startyear=2020&endyear=2020&pvcalculation=1&optimalangles=1&lat=0.354&lon=28.925&outputformat=json\n",
      "https://re.jrc.ec.europa.eu/api/v5_2/seriescalc?peakpower=1&loss=14&localtime=1&startyear=2020&endyear=2020&pvcalculation=1&optimalangles=1&lat=-4.864&lon=26.893&outputformat=json\n",
      "https://re.jrc.ec.europa.eu/api/v5_2/seriescalc?peakpower=1&loss=14&localtime=1&startyear=2020&endyear=2020&pvcalculation=1&optimalangles=1&lat=-5.71&lon=23.323&outputformat=json\n",
      "https://re.jrc.ec.europa.eu/api/v5_2/seriescalc?peakpower=1&loss=14&localtime=1&startyear=2020&endyear=2020&pvcalculation=1&optimalangles=1&lat=-10.235&lon=26.093&outputformat=json\n"
     ]
    }
   ],
   "source": [
    "i = 0\n",
    "dfs = dict()\n",
    "\n",
    "for idx, row in df.iterrows(): \n",
    "    \n",
    "    id = row['idSet'].astype(int)\n",
    "    lat = row['latitude'].astype(str)\n",
    "    lon = row['longitude'].astype(str)\n",
    "    url = get_url (lat,lon)\n",
    "    \n",
    "    csv_file = home.joinpath('csv', f\"SLE_{id}.csv\")\n",
    "    \n",
    "    print (url)\n",
    "\n",
    "    response = requests.get(url)\n",
    "    row_json = json.loads(response.text)    \n",
    "\n",
    "    try:            \n",
    "        dfs[id] = parse_json(id, row_json, csv_file) #  parse data from pvgis\n",
    "    except:\n",
    "        dfs[id] = None\n",
    "        print (f'error parse json id: {id}, lat:{lat}, lon:{lon}')\n",
    "\n",
    "    # _____________ save partial results\n",
    "    if i > 100:  \n",
    "        print ('_____________________________')\n",
    "        df_merged = pd.concat(dfs.values(), ignore_index=True)\n",
    "        df_merged.to_csv(csv_outfile, index = False)\n",
    "        i = 0\n",
    "        clear_output(wait=False)\n",
    "\n",
    "    i +=1\n",
    "            \n",
    "\n",
    "# _____________ save final results\n",
    "df_merged = pd.concat(dfs.values(), ignore_index=True)\n",
    "df_merged.to_csv(csv_outfile, index = False)\n"
   ]
  },
  {
   "cell_type": "code",
   "execution_count": null,
   "id": "3eeca387",
   "metadata": {},
   "outputs": [],
   "source": []
  },
  {
   "cell_type": "code",
   "execution_count": null,
   "id": "6a40d361",
   "metadata": {},
   "outputs": [],
   "source": []
  },
  {
   "cell_type": "code",
   "execution_count": null,
   "id": "34300b06",
   "metadata": {},
   "outputs": [],
   "source": []
  },
  {
   "cell_type": "code",
   "execution_count": null,
   "id": "cb582b0e",
   "metadata": {},
   "outputs": [],
   "source": []
  },
  {
   "cell_type": "code",
   "execution_count": null,
   "id": "298b8120",
   "metadata": {},
   "outputs": [],
   "source": []
  },
  {
   "cell_type": "code",
   "execution_count": null,
   "id": "5501f593",
   "metadata": {},
   "outputs": [],
   "source": []
  },
  {
   "cell_type": "code",
   "execution_count": null,
   "id": "9b6ed33f",
   "metadata": {},
   "outputs": [],
   "source": []
  },
  {
   "cell_type": "code",
   "execution_count": null,
   "id": "260e78fb",
   "metadata": {},
   "outputs": [],
   "source": []
  },
  {
   "cell_type": "code",
   "execution_count": null,
   "id": "3ea09dcb",
   "metadata": {},
   "outputs": [],
   "source": []
  },
  {
   "cell_type": "code",
   "execution_count": null,
   "id": "38087ffa",
   "metadata": {},
   "outputs": [],
   "source": []
  },
  {
   "cell_type": "code",
   "execution_count": null,
   "id": "e980aeb6",
   "metadata": {},
   "outputs": [],
   "source": []
  },
  {
   "cell_type": "code",
   "execution_count": null,
   "id": "a8ee1eed",
   "metadata": {},
   "outputs": [],
   "source": []
  },
  {
   "cell_type": "code",
   "execution_count": null,
   "id": "4b0ab641",
   "metadata": {},
   "outputs": [],
   "source": []
  },
  {
   "cell_type": "code",
   "execution_count": null,
   "id": "7aad5a55",
   "metadata": {},
   "outputs": [],
   "source": []
  }
 ],
 "metadata": {
  "kernelspec": {
   "display_name": "Python 3 (ipykernel)",
   "language": "python",
   "name": "python3"
  },
  "language_info": {
   "codemirror_mode": {
    "name": "ipython",
    "version": 3
   },
   "file_extension": ".py",
   "mimetype": "text/x-python",
   "name": "python",
   "nbconvert_exporter": "python",
   "pygments_lexer": "ipython3",
   "version": "3.10.9"
  }
 },
 "nbformat": 4,
 "nbformat_minor": 5
}
