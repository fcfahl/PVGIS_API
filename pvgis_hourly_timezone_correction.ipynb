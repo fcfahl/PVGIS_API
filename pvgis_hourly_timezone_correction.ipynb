{
 "cells": [
  {
   "cell_type": "code",
   "execution_count": 21,
   "id": "da541e2d",
   "metadata": {},
   "outputs": [],
   "source": [
    "# https://joint-research-centre.ec.europa.eu/pvgis-online-tool/getting-started-pvgis/api-non-interactive-service_en\n",
    "\n",
    "import os, csv, json, requests\n",
    "import pandas as pd\n",
    "import numpy as np\n",
    "from datetime import datetime, timedelta, date\n",
    "from zipfile import ZipFile\n",
    "from IPython.display import clear_output\n",
    "\n",
    "from pathlib import Path\n",
    "pd.options.display.float_format = '{:.2f}'.format"
   ]
  },
  {
   "cell_type": "code",
   "execution_count": 23,
   "id": "6dfe37c5-cadb-40dd-8261-a6207cbdb4a0",
   "metadata": {},
   "outputs": [],
   "source": [
    "__author__  = \"Fernando Fahl <fernando.fahl@gmail.com>\"\n",
    "__version__ = \"1.0\"\n",
    "__date__    = \"March 2023\""
   ]
  },
  {
   "cell_type": "markdown",
   "id": "c023ff72-c38d-445b-8a50-179b7d35828f",
   "metadata": {},
   "source": [
    "# 1. Parameters"
   ]
  },
  {
   "cell_type": "markdown",
   "id": "1c24d73d-1369-4bed-b0d4-ae9c8ae5171b",
   "metadata": {},
   "source": [
    "## 1.1 PVGIS"
   ]
  },
  {
   "cell_type": "code",
   "execution_count": 13,
   "id": "22ebe686-3102-413f-ba7e-19efa35be738",
   "metadata": {},
   "outputs": [],
   "source": [
    "startyear     = 2020\n",
    "endyear       = 2020\n",
    "peakpower     = 1\n",
    "loss          = 14\n",
    "pvcalculation = 1 # \"0\" outputs only solar radiation calculations, \"1\" outputs the estimation of hourly PV production as well\n",
    "optimalangles = 1 #  Value of 1 for \"yes\". All other values (or no value) mean \"no\". \n",
    "\n",
    "excel_filename = 'SLE_results1.13.xlsx'"
   ]
  },
  {
   "cell_type": "markdown",
   "id": "33694726-653c-47cb-89f6-1171deb44a8f",
   "metadata": {},
   "source": [
    "## 1.2 Time zone transformation"
   ]
  },
  {
   "cell_type": "markdown",
   "id": "7c8faf12-4323-4d79-8daa-0b6ddbd42ac1",
   "metadata": {},
   "source": [
    "This transformation applies to the entire dataset. \\\n",
    "If required different time zones, split the input dataset in different files, one for each time zone.\\\n",
    "It shifts the data according the the time zone, and it may generate data in a different time period (e.g. last or first column may be in different years)"
   ]
  },
  {
   "cell_type": "code",
   "execution_count": 14,
   "id": "7d7ebc15-1e42-4810-a3ab-ca640cd4ac36",
   "metadata": {},
   "outputs": [],
   "source": [
    "time_zone     = 0"
   ]
  },
  {
   "cell_type": "markdown",
   "id": "8d5727d7-9d1c-44af-96bf-3464f6146891",
   "metadata": {},
   "source": [
    "# 2. Data load"
   ]
  },
  {
   "cell_type": "code",
   "execution_count": 24,
   "id": "0fead04b",
   "metadata": {},
   "outputs": [],
   "source": [
    "today       = date.today().isoformat()\n",
    "home        = Path(os.getcwd())\n",
    "xls_file    = home.joinpath(excel_filename)\n",
    "\n",
    "csv_outfile = home.joinpath(f'{xls_file.stem}_PVGIS_year{startyear}to{endyear}_timezone{time_zone}_{today}.csv')\n",
    "csv_errors  = home.joinpath(f'{xls_file.stem}_ERRORs_{today}.csv')\n",
    "\n",
    "# print (csv_outfile)\n",
    "# print (csv_errors)"
   ]
  },
  {
   "cell_type": "code",
   "execution_count": 16,
   "id": "014d6b49",
   "metadata": {},
   "outputs": [
    {
     "name": "stdout",
     "output_type": "stream",
     "text": [
      "   idSet  latitude  longitude\n",
      "0      1      7.82     -10.92\n",
      "1      2      8.28     -10.38\n",
      "2      3      8.28     -10.37\n",
      "3      4      8.21     -10.35\n",
      "4      5      8.17     -10.36\n"
     ]
    }
   ],
   "source": [
    "df_xls = pd.read_excel(xls_file)\n",
    "columns = ['idSet','latitude','longitude']\n",
    "df = df_xls[columns].copy()\n",
    "# df = df_xls[columns].head(105).copy() # test only\n",
    "\n",
    "print(df.head())"
   ]
  },
  {
   "cell_type": "markdown",
   "id": "71df0ab8-43d2-4631-bc8e-5b1b804381a5",
   "metadata": {},
   "source": [
    "# 3. PVGIS"
   ]
  },
  {
   "cell_type": "markdown",
   "id": "1a58f4f0-3957-41bf-856c-aa89a4cff2dd",
   "metadata": {},
   "source": [
    "## 3.1 Create URL"
   ]
  },
  {
   "cell_type": "code",
   "execution_count": 17,
   "id": "1f351a93",
   "metadata": {},
   "outputs": [],
   "source": [
    "def get_url(lat, lon):    \n",
    "    \n",
    "    url_base = \"https://re.jrc.ec.europa.eu/api/v5_2/seriescalc?\"\n",
    "    \n",
    "    pvgis_params = dict(\n",
    "        peakpower=peakpower,\n",
    "        loss=loss,\n",
    "        startyear=startyear,\n",
    "        endyear=endyear,\n",
    "        pvcalculation=pvcalculation, # \"0\" outputs only solar radiation calculations, \"1\" outputs the estimation of hourly PV production as well\n",
    "        optimalangles=optimalangles,\n",
    "        lat=lat,\n",
    "        lon=lon,\n",
    "        outputformat = 'json',\n",
    "    )   \n",
    "\n",
    "    return url_base + \"&\".join([f'{key}={value}' for key, value in pvgis_params.items()])\n"
   ]
  },
  {
   "cell_type": "markdown",
   "id": "9c707ad5-6bd6-43cd-8dcc-c3b5398fb81b",
   "metadata": {},
   "source": [
    "## 3.2 Parse PVGIS"
   ]
  },
  {
   "cell_type": "code",
   "execution_count": 18,
   "id": "36b52fad-0f64-4be5-a2f0-ae23b6fb87a4",
   "metadata": {},
   "outputs": [],
   "source": [
    "def parse_json(id, data):    \n",
    "    \n",
    "    # ____________ parse data to df\n",
    "    df_input        = pd.json_normalize(data.get('inputs'))\n",
    "    df_output       = pd.json_normalize(data.get('outputs').get('hourly'))        \n",
    "    latitude        = df_input['location.latitude'].values\n",
    "    \n",
    "    # ____________ get optimal angles\n",
    "    slope_optimized   = df_input['mounting_system.fixed.slope.value'].values\n",
    "    azimuth_optimized = df_input['mounting_system.fixed.azimuth.value'].values    \n",
    "    azimuth_corrected = 0 if float(latitude) < 0 else 180\n",
    "\n",
    "    # ____________ convert the 'Date' column to datetime format: round minutes from timestamp (do not trunc the timestamp - it would cause a shift in some readings)\n",
    "    df_power               = df_output[['time', 'P']].copy() \n",
    "    df_power['time']       = pd.to_datetime(df_power['time'], format='%Y%m%d:%H%M').round('H')\n",
    "    df_power['local_time'] = df_power['time'] + timedelta(hours = time_zone)\n",
    "    \n",
    "    # ____________ reformat timestamp (remove minutes)\n",
    "    df_power['local_time']  = df_power['local_time'].dt.strftime('%Y-%m-%d:%H')    \n",
    "\n",
    "    # ____________ set datetime index\n",
    "    df_power = df_power.set_index(df_power['local_time'])\n",
    "    df_power = df_power.drop(['time', 'local_time'], axis=1)   \n",
    "    \n",
    "    # ____________ transpose df\n",
    "    df_tranpose = df_power[['P']].transpose()   \n",
    "    \n",
    "    # ____________ add columns\n",
    "    df_tranpose.insert(0, 'azimuth_corrected', azimuth_corrected)\n",
    "    df_tranpose.insert(0, 'azimuth', azimuth_optimized)\n",
    "    df_tranpose.insert(0, 'slope', slope_optimized)\n",
    "    df_tranpose.insert(0, 'id', id)\n",
    "    \n",
    "    return df_tranpose   \n",
    "    "
   ]
  },
  {
   "cell_type": "markdown",
   "id": "fb87506f-4340-4b45-b0d7-e810da19b7de",
   "metadata": {},
   "source": [
    "## 3.3 Query PVGIS"
   ]
  },
  {
   "cell_type": "code",
   "execution_count": 27,
   "id": "76daeca6-783b-44c8-bc93-3b4a31665896",
   "metadata": {},
   "outputs": [],
   "source": [
    "def save_csv(dfs, dfs_error):\n",
    "    \"\"\" save csv as compressed files\"\"\"\n",
    "\n",
    "    df_merged = pd.concat(dfs.values(), ignore_index=True)            \n",
    "    df_merged.to_csv(f\"{csv_outfile}.gz\", index = False, compression='gzip')\n",
    "    \n",
    "    if dfs_error:    \n",
    "        df_merged_error = pd.concat(dfs_error.values(), ignore_index=True)    \n",
    "        df_merged_error.to_csv(f\"{csv_errors}.gz\", index = False, compression='gzip')             \n"
   ]
  },
  {
   "cell_type": "code",
   "execution_count": null,
   "id": "4135047b",
   "metadata": {
    "tags": []
   },
   "outputs": [
    {
     "name": "stdout",
     "output_type": "stream",
     "text": [
      "done 1: id=1517 url=https://re.jrc.ec.europa.eu/api/v5_2/seriescalc?peakpower=1&loss=14&startyear=2020&endyear=2020&pvcalculation=1&optimalangles=1&lat=8.283723&lon=-11.37945&outputformat=json\n",
      "done 2: id=1518 url=https://re.jrc.ec.europa.eu/api/v5_2/seriescalc?peakpower=1&loss=14&startyear=2020&endyear=2020&pvcalculation=1&optimalangles=1&lat=8.270082&lon=-11.34249&outputformat=json\n",
      "done 3: id=1519 url=https://re.jrc.ec.europa.eu/api/v5_2/seriescalc?peakpower=1&loss=14&startyear=2020&endyear=2020&pvcalculation=1&optimalangles=1&lat=8.319503&lon=-11.34206&outputformat=json\n",
      "done 4: id=1520 url=https://re.jrc.ec.europa.eu/api/v5_2/seriescalc?peakpower=1&loss=14&startyear=2020&endyear=2020&pvcalculation=1&optimalangles=1&lat=8.229377&lon=-11.34792&outputformat=json\n",
      "done 5: id=1521 url=https://re.jrc.ec.europa.eu/api/v5_2/seriescalc?peakpower=1&loss=14&startyear=2020&endyear=2020&pvcalculation=1&optimalangles=1&lat=8.345801&lon=-11.33095&outputformat=json\n",
      "done 6: id=1522 url=https://re.jrc.ec.europa.eu/api/v5_2/seriescalc?peakpower=1&loss=14&startyear=2020&endyear=2020&pvcalculation=1&optimalangles=1&lat=8.33064&lon=-11.40604&outputformat=json\n",
      "done 7: id=1523 url=https://re.jrc.ec.europa.eu/api/v5_2/seriescalc?peakpower=1&loss=14&startyear=2020&endyear=2020&pvcalculation=1&optimalangles=1&lat=8.247368&lon=-11.42298&outputformat=json\n",
      "done 8: id=1524 url=https://re.jrc.ec.europa.eu/api/v5_2/seriescalc?peakpower=1&loss=14&startyear=2020&endyear=2020&pvcalculation=1&optimalangles=1&lat=8.357613&lon=-11.43433&outputformat=json\n",
      "done 9: id=1525 url=https://re.jrc.ec.europa.eu/api/v5_2/seriescalc?peakpower=1&loss=14&startyear=2020&endyear=2020&pvcalculation=1&optimalangles=1&lat=8.357536&lon=-11.37863&outputformat=json\n",
      "done 10: id=1526 url=https://re.jrc.ec.europa.eu/api/v5_2/seriescalc?peakpower=1&loss=14&startyear=2020&endyear=2020&pvcalculation=1&optimalangles=1&lat=8.321817&lon=-11.3727&outputformat=json\n",
      "done 11: id=1527 url=https://re.jrc.ec.europa.eu/api/v5_2/seriescalc?peakpower=1&loss=14&startyear=2020&endyear=2020&pvcalculation=1&optimalangles=1&lat=8.359398&lon=-11.33539&outputformat=json\n",
      "done 12: id=1528 url=https://re.jrc.ec.europa.eu/api/v5_2/seriescalc?peakpower=1&loss=14&startyear=2020&endyear=2020&pvcalculation=1&optimalangles=1&lat=8.561073&lon=-10.91079&outputformat=json\n",
      "done 13: id=1529 url=https://re.jrc.ec.europa.eu/api/v5_2/seriescalc?peakpower=1&loss=14&startyear=2020&endyear=2020&pvcalculation=1&optimalangles=1&lat=8.625593&lon=-10.85981&outputformat=json\n",
      "done 14: id=1530 url=https://re.jrc.ec.europa.eu/api/v5_2/seriescalc?peakpower=1&loss=14&startyear=2020&endyear=2020&pvcalculation=1&optimalangles=1&lat=8.650095&lon=-10.78971&outputformat=json\n",
      "done 15: id=1531 url=https://re.jrc.ec.europa.eu/api/v5_2/seriescalc?peakpower=1&loss=14&startyear=2020&endyear=2020&pvcalculation=1&optimalangles=1&lat=8.717971&lon=-10.78325&outputformat=json\n",
      "done 16: id=1532 url=https://re.jrc.ec.europa.eu/api/v5_2/seriescalc?peakpower=1&loss=14&startyear=2020&endyear=2020&pvcalculation=1&optimalangles=1&lat=8.602934&lon=-10.81795&outputformat=json\n",
      "done 17: id=1533 url=https://re.jrc.ec.europa.eu/api/v5_2/seriescalc?peakpower=1&loss=14&startyear=2020&endyear=2020&pvcalculation=1&optimalangles=1&lat=8.62909&lon=-10.82619&outputformat=json\n",
      "done 18: id=1534 url=https://re.jrc.ec.europa.eu/api/v5_2/seriescalc?peakpower=1&loss=14&startyear=2020&endyear=2020&pvcalculation=1&optimalangles=1&lat=8.628779&lon=-10.82509&outputformat=json\n",
      "done 19: id=1535 url=https://re.jrc.ec.europa.eu/api/v5_2/seriescalc?peakpower=1&loss=14&startyear=2020&endyear=2020&pvcalculation=1&optimalangles=1&lat=8.63385&lon=-10.78295&outputformat=json\n",
      "done 20: id=1536 url=https://re.jrc.ec.europa.eu/api/v5_2/seriescalc?peakpower=1&loss=14&startyear=2020&endyear=2020&pvcalculation=1&optimalangles=1&lat=8.654666&lon=-10.81358&outputformat=json\n",
      "done 21: id=1537 url=https://re.jrc.ec.europa.eu/api/v5_2/seriescalc?peakpower=1&loss=14&startyear=2020&endyear=2020&pvcalculation=1&optimalangles=1&lat=8.634433&lon=-10.84536&outputformat=json\n",
      "done 22: id=1538 url=https://re.jrc.ec.europa.eu/api/v5_2/seriescalc?peakpower=1&loss=14&startyear=2020&endyear=2020&pvcalculation=1&optimalangles=1&lat=8.641401&lon=-10.89543&outputformat=json\n",
      "done 23: id=1539 url=https://re.jrc.ec.europa.eu/api/v5_2/seriescalc?peakpower=1&loss=14&startyear=2020&endyear=2020&pvcalculation=1&optimalangles=1&lat=8.761923&lon=-10.82661&outputformat=json\n",
      "done 24: id=1540 url=https://re.jrc.ec.europa.eu/api/v5_2/seriescalc?peakpower=1&loss=14&startyear=2020&endyear=2020&pvcalculation=1&optimalangles=1&lat=8.553963&lon=-10.89152&outputformat=json\n",
      "done 25: id=1541 url=https://re.jrc.ec.europa.eu/api/v5_2/seriescalc?peakpower=1&loss=14&startyear=2020&endyear=2020&pvcalculation=1&optimalangles=1&lat=8.625506&lon=-10.82129&outputformat=json\n",
      "done 26: id=1542 url=https://re.jrc.ec.europa.eu/api/v5_2/seriescalc?peakpower=1&loss=14&startyear=2020&endyear=2020&pvcalculation=1&optimalangles=1&lat=8.695133&lon=-10.79771&outputformat=json\n",
      "done 27: id=1543 url=https://re.jrc.ec.europa.eu/api/v5_2/seriescalc?peakpower=1&loss=14&startyear=2020&endyear=2020&pvcalculation=1&optimalangles=1&lat=8.576542&lon=-10.87823&outputformat=json\n",
      "done 28: id=1544 url=https://re.jrc.ec.europa.eu/api/v5_2/seriescalc?peakpower=1&loss=14&startyear=2020&endyear=2020&pvcalculation=1&optimalangles=1&lat=8.632734&lon=-10.88804&outputformat=json\n",
      "done 29: id=1545 url=https://re.jrc.ec.europa.eu/api/v5_2/seriescalc?peakpower=1&loss=14&startyear=2020&endyear=2020&pvcalculation=1&optimalangles=1&lat=8.458057&lon=-10.74857&outputformat=json\n",
      "done 30: id=1546 url=https://re.jrc.ec.europa.eu/api/v5_2/seriescalc?peakpower=1&loss=14&startyear=2020&endyear=2020&pvcalculation=1&optimalangles=1&lat=8.424554&lon=-10.7824&outputformat=json\n",
      "done 31: id=1547 url=https://re.jrc.ec.europa.eu/api/v5_2/seriescalc?peakpower=1&loss=14&startyear=2020&endyear=2020&pvcalculation=1&optimalangles=1&lat=8.453765&lon=-10.86981&outputformat=json\n",
      "done 32: id=1548 url=https://re.jrc.ec.europa.eu/api/v5_2/seriescalc?peakpower=1&loss=14&startyear=2020&endyear=2020&pvcalculation=1&optimalangles=1&lat=8.393929&lon=-10.87506&outputformat=json\n",
      "done 33: id=1549 url=https://re.jrc.ec.europa.eu/api/v5_2/seriescalc?peakpower=1&loss=14&startyear=2020&endyear=2020&pvcalculation=1&optimalangles=1&lat=8.479297&lon=-10.76979&outputformat=json\n",
      "done 34: id=1550 url=https://re.jrc.ec.europa.eu/api/v5_2/seriescalc?peakpower=1&loss=14&startyear=2020&endyear=2020&pvcalculation=1&optimalangles=1&lat=8.549165&lon=-10.83981&outputformat=json\n",
      "done 35: id=1551 url=https://re.jrc.ec.europa.eu/api/v5_2/seriescalc?peakpower=1&loss=14&startyear=2020&endyear=2020&pvcalculation=1&optimalangles=1&lat=8.549207&lon=-10.83974&outputformat=json\n",
      "done 36: id=1552 url=https://re.jrc.ec.europa.eu/api/v5_2/seriescalc?peakpower=1&loss=14&startyear=2020&endyear=2020&pvcalculation=1&optimalangles=1&lat=8.495391&lon=-10.88292&outputformat=json\n",
      "done 37: id=1553 url=https://re.jrc.ec.europa.eu/api/v5_2/seriescalc?peakpower=1&loss=14&startyear=2020&endyear=2020&pvcalculation=1&optimalangles=1&lat=8.428686&lon=-10.83679&outputformat=json\n",
      "done 38: id=1554 url=https://re.jrc.ec.europa.eu/api/v5_2/seriescalc?peakpower=1&loss=14&startyear=2020&endyear=2020&pvcalculation=1&optimalangles=1&lat=8.632763&lon=-10.54185&outputformat=json\n",
      "done 39: id=1555 url=https://re.jrc.ec.europa.eu/api/v5_2/seriescalc?peakpower=1&loss=14&startyear=2020&endyear=2020&pvcalculation=1&optimalangles=1&lat=8.43852&lon=-10.7723&outputformat=json\n",
      "done 40: id=1556 url=https://re.jrc.ec.europa.eu/api/v5_2/seriescalc?peakpower=1&loss=14&startyear=2020&endyear=2020&pvcalculation=1&optimalangles=1&lat=8.502279&lon=-10.87957&outputformat=json\n",
      "done 41: id=1557 url=https://re.jrc.ec.europa.eu/api/v5_2/seriescalc?peakpower=1&loss=14&startyear=2020&endyear=2020&pvcalculation=1&optimalangles=1&lat=8.529019&lon=-10.86013&outputformat=json\n",
      "done 42: id=1558 url=https://re.jrc.ec.europa.eu/api/v5_2/seriescalc?peakpower=1&loss=14&startyear=2020&endyear=2020&pvcalculation=1&optimalangles=1&lat=8.4452&lon=-10.82417&outputformat=json\n",
      "done 43: id=1559 url=https://re.jrc.ec.europa.eu/api/v5_2/seriescalc?peakpower=1&loss=14&startyear=2020&endyear=2020&pvcalculation=1&optimalangles=1&lat=8.421138&lon=-10.84757&outputformat=json\n",
      "done 44: id=1560 url=https://re.jrc.ec.europa.eu/api/v5_2/seriescalc?peakpower=1&loss=14&startyear=2020&endyear=2020&pvcalculation=1&optimalangles=1&lat=8.648703&lon=-10.56921&outputformat=json\n",
      "done 45: id=1561 url=https://re.jrc.ec.europa.eu/api/v5_2/seriescalc?peakpower=1&loss=14&startyear=2020&endyear=2020&pvcalculation=1&optimalangles=1&lat=8.617501&lon=-10.58276&outputformat=json\n",
      "done 46: id=1562 url=https://re.jrc.ec.europa.eu/api/v5_2/seriescalc?peakpower=1&loss=14&startyear=2020&endyear=2020&pvcalculation=1&optimalangles=1&lat=8.63315&lon=-10.54194&outputformat=json\n",
      "done 47: id=1563 url=https://re.jrc.ec.europa.eu/api/v5_2/seriescalc?peakpower=1&loss=14&startyear=2020&endyear=2020&pvcalculation=1&optimalangles=1&lat=8.604865&lon=-10.58217&outputformat=json\n"
     ]
    }
   ],
   "source": [
    "i = 0\n",
    "dfs = dict()\n",
    "dfs_error = dict()\n",
    "\n",
    "for idx, row in df.iterrows(): \n",
    "    \n",
    "    id = row['idSet'].astype(int)\n",
    "    lat = row['latitude'].astype(str)\n",
    "    lon = row['longitude'].astype(str)\n",
    "    url = get_url (lat,lon)\n",
    "\n",
    "    # _____________ get data from pvgis\n",
    "    response = requests.get(url)\n",
    "    row_json = json.loads(response.text)    \n",
    "\n",
    "    # _____________ parse data from pvgis\n",
    "    try:            \n",
    "        dfs[id] = parse_json(id, row_json) # \n",
    "        print (f'done {i}: id={id} url={url}')\n",
    "    except:\n",
    "        message = row_json['message']\n",
    "        dfs_error[id] = pd.DataFrame(dict(id=id,lat=lat,lon=lon,message=message,url=url), index=[0])\n",
    "        print (f'ERROR {i} --> id: {id}, message: {message} url: {url}')\n",
    "\n",
    "    # _____________ save partial results\n",
    "    if i > 100:  \n",
    "        save_csv(dfs, dfs_error)        \n",
    "        i = 0\n",
    "        clear_output(wait=False)\n",
    "\n",
    "    i +=1\n",
    "            \n",
    "# _____________ save final results\n",
    "save_csv(dfs, dfs_error)  \n"
   ]
  },
  {
   "cell_type": "code",
   "execution_count": 11,
   "id": "b922d57f-2871-4c61-b060-66618be37ce9",
   "metadata": {},
   "outputs": [],
   "source": [
    "\n",
    "    "
   ]
  },
  {
   "cell_type": "code",
   "execution_count": null,
   "id": "5e45ded8-f3b1-47fe-a299-9470619ee541",
   "metadata": {},
   "outputs": [],
   "source": []
  }
 ],
 "metadata": {
  "kernelspec": {
   "display_name": "Python 3",
   "language": "python",
   "name": "python3"
  },
  "language_info": {
   "codemirror_mode": {
    "name": "ipython",
    "version": 3
   },
   "file_extension": ".py",
   "mimetype": "text/x-python",
   "name": "python",
   "nbconvert_exporter": "python",
   "pygments_lexer": "ipython3",
   "version": "3.8.10"
  }
 },
 "nbformat": 4,
 "nbformat_minor": 5
}
