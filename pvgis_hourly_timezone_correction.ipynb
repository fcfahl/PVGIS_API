{
 "cells": [
  {
   "cell_type": "code",
   "execution_count": 21,
   "id": "da541e2d",
   "metadata": {},
   "outputs": [],
   "source": [
    "# https://joint-research-centre.ec.europa.eu/pvgis-online-tool/getting-started-pvgis/api-non-interactive-service_en\n",
    "\n",
    "import os, csv, json, requests\n",
    "import pandas as pd\n",
    "import numpy as np\n",
    "from datetime import datetime, timedelta, date\n",
    "from zipfile import ZipFile\n",
    "from IPython.display import clear_output\n",
    "\n",
    "from pathlib import Path\n",
    "pd.options.display.float_format = '{:.2f}'.format"
   ]
  },
  {
   "cell_type": "code",
   "execution_count": 23,
   "id": "6dfe37c5-cadb-40dd-8261-a6207cbdb4a0",
   "metadata": {},
   "outputs": [],
   "source": [
    "__author__  = \"Fernando Fahl <fernando.fahl@ext.ec.europa.eu>\"\n",
    "__version__ = \"1.0\"\n",
    "__date__    = \"March 2023\""
   ]
  },
  {
   "cell_type": "markdown",
   "id": "c023ff72-c38d-445b-8a50-179b7d35828f",
   "metadata": {},
   "source": [
    "# 1. Parameters"
   ]
  },
  {
   "cell_type": "markdown",
   "id": "1c24d73d-1369-4bed-b0d4-ae9c8ae5171b",
   "metadata": {},
   "source": [
    "## 1.1 PVGIS"
   ]
  },
  {
   "cell_type": "code",
   "execution_count": 13,
   "id": "22ebe686-3102-413f-ba7e-19efa35be738",
   "metadata": {},
   "outputs": [],
   "source": [
    "startyear     = 2020\n",
    "endyear       = 2020\n",
    "peakpower     = 1\n",
    "loss          = 14\n",
    "pvcalculation = 1 # \"0\" outputs only solar radiation calculations, \"1\" outputs the estimation of hourly PV production as well\n",
    "optimalangles = 1 #  Value of 1 for \"yes\". All other values (or no value) mean \"no\". \n",
    "\n",
    "excel_filename = 'SLE_results1.13.xlsx'"
   ]
  },
  {
   "cell_type": "markdown",
   "id": "33694726-653c-47cb-89f6-1171deb44a8f",
   "metadata": {},
   "source": [
    "## 1.2 Time zone transformation"
   ]
  },
  {
   "cell_type": "markdown",
   "id": "7c8faf12-4323-4d79-8daa-0b6ddbd42ac1",
   "metadata": {},
   "source": [
    "This transformation applies to the entire dataset. \\\n",
    "If required different time zones, split the input dataset in different files, one for each time zone.\\\n",
    "It shifts the data according the the time zone, and it may generate data in a different time period (e.g. last or first column may be in different years)"
   ]
  },
  {
   "cell_type": "code",
   "execution_count": 14,
   "id": "7d7ebc15-1e42-4810-a3ab-ca640cd4ac36",
   "metadata": {},
   "outputs": [],
   "source": [
    "time_zone     = 0"
   ]
  },
  {
   "cell_type": "markdown",
   "id": "8d5727d7-9d1c-44af-96bf-3464f6146891",
   "metadata": {},
   "source": [
    "# 2. Data load"
   ]
  },
  {
   "cell_type": "code",
   "execution_count": 24,
   "id": "0fead04b",
   "metadata": {},
   "outputs": [],
   "source": [
    "today       = date.today().isoformat()\n",
    "home        = Path(os.getcwd())\n",
    "xls_file    = home.joinpath(excel_filename)\n",
    "\n",
    "csv_outfile = home.joinpath(f'{xls_file.stem}_PVGIS_year{startyear}to{endyear}_timezone{time_zone}_{today}.csv')\n",
    "csv_errors  = home.joinpath(f'{xls_file.stem}_ERRORs_{today}.csv')\n",
    "\n",
    "# print (csv_outfile)\n",
    "# print (csv_errors)"
   ]
  },
  {
   "cell_type": "code",
   "execution_count": 16,
   "id": "014d6b49",
   "metadata": {},
   "outputs": [
    {
     "name": "stdout",
     "output_type": "stream",
     "text": [
      "   idSet  latitude  longitude\n",
      "0      1      7.82     -10.92\n",
      "1      2      8.28     -10.38\n",
      "2      3      8.28     -10.37\n",
      "3      4      8.21     -10.35\n",
      "4      5      8.17     -10.36\n"
     ]
    }
   ],
   "source": [
    "df_xls = pd.read_excel(xls_file)\n",
    "columns = ['idSet','latitude','longitude']\n",
    "df = df_xls[columns].copy()\n",
    "# df = df_xls[columns].head(105).copy() # test only\n",
    "\n",
    "print(df.head())"
   ]
  },
  {
   "cell_type": "markdown",
   "id": "71df0ab8-43d2-4631-bc8e-5b1b804381a5",
   "metadata": {},
   "source": [
    "# 3. PVGIS"
   ]
  },
  {
   "cell_type": "markdown",
   "id": "1a58f4f0-3957-41bf-856c-aa89a4cff2dd",
   "metadata": {},
   "source": [
    "## 3.1 Create URL"
   ]
  },
  {
   "cell_type": "code",
   "execution_count": 17,
   "id": "1f351a93",
   "metadata": {},
   "outputs": [],
   "source": [
    "def get_url(lat, lon):    \n",
    "    \n",
    "    url_base = \"https://re.jrc.ec.europa.eu/api/v5_2/seriescalc?\"\n",
    "    \n",
    "    pvgis_params = dict(\n",
    "        peakpower=peakpower,\n",
    "        loss=loss,\n",
    "        startyear=startyear,\n",
    "        endyear=endyear,\n",
    "        pvcalculation=pvcalculation, # \"0\" outputs only solar radiation calculations, \"1\" outputs the estimation of hourly PV production as well\n",
    "        optimalangles=optimalangles,\n",
    "        lat=lat,\n",
    "        lon=lon,\n",
    "        outputformat = 'json',\n",
    "    )   \n",
    "\n",
    "    return url_base + \"&\".join([f'{key}={value}' for key, value in pvgis_params.items()])\n"
   ]
  },
  {
   "cell_type": "markdown",
   "id": "9c707ad5-6bd6-43cd-8dcc-c3b5398fb81b",
   "metadata": {},
   "source": [
    "## 3.2 Parse PVGIS"
   ]
  },
  {
   "cell_type": "code",
   "execution_count": 18,
   "id": "36b52fad-0f64-4be5-a2f0-ae23b6fb87a4",
   "metadata": {},
   "outputs": [],
   "source": [
    "def parse_json(id, data):    \n",
    "    \n",
    "    # ____________ parse data to df\n",
    "    df_input        = pd.json_normalize(data.get('inputs'))\n",
    "    df_output       = pd.json_normalize(data.get('outputs').get('hourly'))        \n",
    "    latitude        = df_input['location.latitude'].values\n",
    "    \n",
    "    # ____________ get optimal angles\n",
    "    slope_optimized   = df_input['mounting_system.fixed.slope.value'].values\n",
    "    azimuth_optimized = df_input['mounting_system.fixed.azimuth.value'].values    \n",
    "    azimuth_corrected = 0 if float(latitude) < 0 else 180\n",
    "\n",
    "    # ____________ convert the 'Date' column to datetime format: round minutes from timestamp (do not trunc the timestamp - it would cause a shift in some readings)\n",
    "    df_power               = df_output[['time', 'P']].copy() \n",
    "    df_power['time']       = pd.to_datetime(df_power['time'], format='%Y%m%d:%H%M').round('H')\n",
    "    df_power['local_time'] = df_power['time'] + timedelta(hours = time_zone)\n",
    "    \n",
    "    # ____________ reformat timestamp (remove minutes)\n",
    "    df_power['local_time']  = df_power['local_time'].dt.strftime('%Y-%m-%d:%H')    \n",
    "\n",
    "    # ____________ set datetime index\n",
    "    df_power = df_power.set_index(df_power['local_time'])\n",
    "    df_power = df_power.drop(['time', 'local_time'], axis=1)   \n",
    "    \n",
    "    # ____________ transpose df\n",
    "    df_tranpose = df_power[['P']].transpose()   \n",
    "    \n",
    "    # ____________ add columns\n",
    "    df_tranpose.insert(0, 'azimuth_corrected', azimuth_corrected)\n",
    "    df_tranpose.insert(0, 'azimuth', azimuth_optimized)\n",
    "    df_tranpose.insert(0, 'slope', slope_optimized)\n",
    "    df_tranpose.insert(0, 'id', id)\n",
    "    \n",
    "    return df_tranpose   \n",
    "    "
   ]
  },
  {
   "cell_type": "markdown",
   "id": "fb87506f-4340-4b45-b0d7-e810da19b7de",
   "metadata": {},
   "source": [
    "## 3.3 Query PVGIS"
   ]
  },
  {
   "cell_type": "code",
   "execution_count": 27,
   "id": "76daeca6-783b-44c8-bc93-3b4a31665896",
   "metadata": {},
   "outputs": [],
   "source": [
    "def save_csv(dfs, dfs_error):\n",
    "    \"\"\" save csv as compressed files\"\"\"\n",
    "\n",
    "    df_merged = pd.concat(dfs.values(), ignore_index=True)            \n",
    "    df_merged.to_csv(f\"{csv_outfile}.gz\", index = False, compression='gzip')\n",
    "    \n",
    "    if dfs_error:    \n",
    "        df_merged_error = pd.concat(dfs_error.values(), ignore_index=True)    \n",
    "        df_merged_error.to_csv(f\"{csv_errors}.gz\", index = False, compression='gzip')             \n"
   ]
  },
  {
   "cell_type": "code",
   "execution_count": 28,
   "id": "4135047b",
   "metadata": {
    "tags": []
   },
   "outputs": [
    {
     "name": "stdout",
     "output_type": "stream",
     "text": [
      "ERROR 1 --> id: 8385, message: Location over the sea. Please, select another location url: https://re.jrc.ec.europa.eu/api/v5_2/seriescalc?peakpower=1&loss=14&startyear=2020&endyear=2020&pvcalculation=1&optimalangles=1&lat=8.447099&lon=-13.26918&outputformat=json\n",
      "ERROR 2 --> id: 8386, message: Location over the sea. Please, select another location url: https://re.jrc.ec.europa.eu/api/v5_2/seriescalc?peakpower=1&loss=14&startyear=2020&endyear=2020&pvcalculation=1&optimalangles=1&lat=8.490007&lon=-13.26516&outputformat=json\n",
      "ERROR 3 --> id: 8387, message: Location over the sea. Please, select another location url: https://re.jrc.ec.europa.eu/api/v5_2/seriescalc?peakpower=1&loss=14&startyear=2020&endyear=2020&pvcalculation=1&optimalangles=1&lat=8.450403&lon=-13.27778&outputformat=json\n",
      "ERROR 4 --> id: 8388, message: Location over the sea. Please, select another location url: https://re.jrc.ec.europa.eu/api/v5_2/seriescalc?peakpower=1&loss=14&startyear=2020&endyear=2020&pvcalculation=1&optimalangles=1&lat=8.450027&lon=-13.27769&outputformat=json\n",
      "ERROR 5 --> id: 8389, message: Location over the sea. Please, select another location url: https://re.jrc.ec.europa.eu/api/v5_2/seriescalc?peakpower=1&loss=14&startyear=2020&endyear=2020&pvcalculation=1&optimalangles=1&lat=8.483322&lon=-13.27224&outputformat=json\n",
      "ERROR 6 --> id: 8390, message: Location over the sea. Please, select another location url: https://re.jrc.ec.europa.eu/api/v5_2/seriescalc?peakpower=1&loss=14&startyear=2020&endyear=2020&pvcalculation=1&optimalangles=1&lat=8.483338&lon=-13.27223&outputformat=json\n",
      "ERROR 7 --> id: 8391, message: Location over the sea. Please, select another location url: https://re.jrc.ec.europa.eu/api/v5_2/seriescalc?peakpower=1&loss=14&startyear=2020&endyear=2020&pvcalculation=1&optimalangles=1&lat=8.482044&lon=-13.26824&outputformat=json\n",
      "ERROR 8 --> id: 8392, message: Location over the sea. Please, select another location url: https://re.jrc.ec.europa.eu/api/v5_2/seriescalc?peakpower=1&loss=14&startyear=2020&endyear=2020&pvcalculation=1&optimalangles=1&lat=8.48069&lon=-13.27129&outputformat=json\n",
      "ERROR 9 --> id: 8393, message: Location over the sea. Please, select another location url: https://re.jrc.ec.europa.eu/api/v5_2/seriescalc?peakpower=1&loss=14&startyear=2020&endyear=2020&pvcalculation=1&optimalangles=1&lat=8.449678&lon=-13.25829&outputformat=json\n",
      "ERROR 10 --> id: 8394, message: Location over the sea. Please, select another location url: https://re.jrc.ec.europa.eu/api/v5_2/seriescalc?peakpower=1&loss=14&startyear=2020&endyear=2020&pvcalculation=1&optimalangles=1&lat=8.449663&lon=-13.25822&outputformat=json\n",
      "ERROR 11 --> id: 8395, message: Location over the sea. Please, select another location url: https://re.jrc.ec.europa.eu/api/v5_2/seriescalc?peakpower=1&loss=14&startyear=2020&endyear=2020&pvcalculation=1&optimalangles=1&lat=8.467695&lon=-13.1803&outputformat=json\n",
      "ERROR 12 --> id: 8396, message: Location over the sea. Please, select another location url: https://re.jrc.ec.europa.eu/api/v5_2/seriescalc?peakpower=1&loss=14&startyear=2020&endyear=2020&pvcalculation=1&optimalangles=1&lat=8.468878&lon=-13.25834&outputformat=json\n",
      "ERROR 13 --> id: 8397, message: Location over the sea. Please, select another location url: https://re.jrc.ec.europa.eu/api/v5_2/seriescalc?peakpower=1&loss=14&startyear=2020&endyear=2020&pvcalculation=1&optimalangles=1&lat=8.475606&lon=-13.26435&outputformat=json\n",
      "ERROR 14 --> id: 8398, message: Location over the sea. Please, select another location url: https://re.jrc.ec.europa.eu/api/v5_2/seriescalc?peakpower=1&loss=14&startyear=2020&endyear=2020&pvcalculation=1&optimalangles=1&lat=8.475442&lon=-13.26438&outputformat=json\n",
      "ERROR 15 --> id: 8399, message: Location over the sea. Please, select another location url: https://re.jrc.ec.europa.eu/api/v5_2/seriescalc?peakpower=1&loss=14&startyear=2020&endyear=2020&pvcalculation=1&optimalangles=1&lat=8.476126&lon=-13.26389&outputformat=json\n"
     ]
    }
   ],
   "source": [
    "i = 0\n",
    "dfs = dict()\n",
    "dfs_error = dict()\n",
    "\n",
    "for idx, row in df.iterrows(): \n",
    "    \n",
    "    id = row['idSet'].astype(int)\n",
    "    lat = row['latitude'].astype(str)\n",
    "    lon = row['longitude'].astype(str)\n",
    "    url = get_url (lat,lon)\n",
    "\n",
    "    # _____________ get data from pvgis\n",
    "    response = requests.get(url)\n",
    "    row_json = json.loads(response.text)    \n",
    "\n",
    "    # _____________ parse data from pvgis\n",
    "    try:            \n",
    "        dfs[id] = parse_json(id, row_json) # \n",
    "        print (f'done {i}: id={id} url={url}')\n",
    "    except:\n",
    "        message = row_json['message']\n",
    "        dfs_error[id] = pd.DataFrame(dict(id=id,lat=lat,lon=lon,message=message,url=url), index=[0])\n",
    "        print (f'ERROR {i} --> id: {id}, message: {message} url: {url}')\n",
    "\n",
    "    # _____________ save partial results\n",
    "    if i > 100:  \n",
    "        save_csv(dfs, dfs_error)        \n",
    "        i = 0\n",
    "        clear_output(wait=False)\n",
    "\n",
    "    i +=1\n",
    "            \n",
    "# _____________ save final results\n",
    "save_csv(dfs, dfs_error)  \n"
   ]
  },
  {
   "cell_type": "code",
   "execution_count": 11,
   "id": "b922d57f-2871-4c61-b060-66618be37ce9",
   "metadata": {},
   "outputs": [],
   "source": [
    "\n",
    "    "
   ]
  },
  {
   "cell_type": "code",
   "execution_count": null,
   "id": "5e45ded8-f3b1-47fe-a299-9470619ee541",
   "metadata": {},
   "outputs": [],
   "source": []
  }
 ],
 "metadata": {
  "kernelspec": {
   "display_name": "Python 3",
   "language": "python",
   "name": "python3"
  },
  "language_info": {
   "codemirror_mode": {
    "name": "ipython",
    "version": 3
   },
   "file_extension": ".py",
   "mimetype": "text/x-python",
   "name": "python",
   "nbconvert_exporter": "python",
   "pygments_lexer": "ipython3",
   "version": "3.8.10"
  }
 },
 "nbformat": 4,
 "nbformat_minor": 5
}
