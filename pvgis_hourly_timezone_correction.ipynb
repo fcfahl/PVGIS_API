{
 "cells": [
  {
   "cell_type": "code",
   "execution_count": 21,
   "id": "da541e2d",
   "metadata": {},
   "outputs": [],
   "source": [
    "# https://joint-research-centre.ec.europa.eu/pvgis-online-tool/getting-started-pvgis/api-non-interactive-service_en\n",
    "\n",
    "import os, csv, json, requests\n",
    "import pandas as pd\n",
    "import numpy as np\n",
    "from datetime import datetime, timedelta, date\n",
    "from zipfile import ZipFile\n",
    "from IPython.display import clear_output\n",
    "\n",
    "from pathlib import Path\n",
    "pd.options.display.float_format = '{:.2f}'.format"
   ]
  },
  {
   "cell_type": "code",
   "execution_count": 23,
   "id": "6dfe37c5-cadb-40dd-8261-a6207cbdb4a0",
   "metadata": {},
   "outputs": [],
   "source": [
    "__author__  = \"Fernando Fahl <fernando.fahl@gmail.com>\"\n",
    "__version__ = \"1.0\"\n",
    "__date__    = \"March 2023\""
   ]
  },
  {
   "cell_type": "markdown",
   "id": "c023ff72-c38d-445b-8a50-179b7d35828f",
   "metadata": {},
   "source": [
    "# 1. Parameters"
   ]
  },
  {
   "cell_type": "markdown",
   "id": "1c24d73d-1369-4bed-b0d4-ae9c8ae5171b",
   "metadata": {},
   "source": [
    "## 1.1 PVGIS"
   ]
  },
  {
   "cell_type": "code",
   "execution_count": 13,
   "id": "22ebe686-3102-413f-ba7e-19efa35be738",
   "metadata": {},
   "outputs": [],
   "source": [
    "startyear     = 2020\n",
    "endyear       = 2020\n",
    "peakpower     = 1\n",
    "loss          = 14\n",
    "pvcalculation = 1 # \"0\" outputs only solar radiation calculations, \"1\" outputs the estimation of hourly PV production as well\n",
    "optimalangles = 1 #  Value of 1 for \"yes\". All other values (or no value) mean \"no\". \n",
    "\n",
    "excel_filename = 'SLE_results1.13.xlsx'"
   ]
  },
  {
   "cell_type": "markdown",
   "id": "33694726-653c-47cb-89f6-1171deb44a8f",
   "metadata": {},
   "source": [
    "## 1.2 Time zone transformation"
   ]
  },
  {
   "cell_type": "markdown",
   "id": "7c8faf12-4323-4d79-8daa-0b6ddbd42ac1",
   "metadata": {},
   "source": [
    "This transformation applies to the entire dataset. \\\n",
    "If required different time zones, split the input dataset in different files, one for each time zone.\\\n",
    "It shifts the data according the the time zone, and it may generate data in a different time period (e.g. last or first column may be in different years)"
   ]
  },
  {
   "cell_type": "code",
   "execution_count": 14,
   "id": "7d7ebc15-1e42-4810-a3ab-ca640cd4ac36",
   "metadata": {},
   "outputs": [],
   "source": [
    "time_zone     = 0"
   ]
  },
  {
   "cell_type": "markdown",
   "id": "8d5727d7-9d1c-44af-96bf-3464f6146891",
   "metadata": {},
   "source": [
    "# 2. Data load"
   ]
  },
  {
   "cell_type": "code",
   "execution_count": 24,
   "id": "0fead04b",
   "metadata": {},
   "outputs": [],
   "source": [
    "today       = date.today().isoformat()\n",
    "home        = Path(os.getcwd())\n",
    "xls_file    = home.joinpath(excel_filename)\n",
    "\n",
    "csv_outfile = home.joinpath(f'{xls_file.stem}_PVGIS_year{startyear}to{endyear}_timezone{time_zone}_{today}.csv')\n",
    "csv_errors  = home.joinpath(f'{xls_file.stem}_ERRORs_{today}.csv')\n",
    "\n",
    "# print (csv_outfile)\n",
    "# print (csv_errors)"
   ]
  },
  {
   "cell_type": "code",
   "execution_count": 16,
   "id": "014d6b49",
   "metadata": {},
   "outputs": [
    {
     "name": "stdout",
     "output_type": "stream",
     "text": [
      "   idSet  latitude  longitude\n",
      "0      1      7.82     -10.92\n",
      "1      2      8.28     -10.38\n",
      "2      3      8.28     -10.37\n",
      "3      4      8.21     -10.35\n",
      "4      5      8.17     -10.36\n"
     ]
    }
   ],
   "source": [
    "df_xls = pd.read_excel(xls_file)\n",
    "columns = ['idSet','latitude','longitude']\n",
    "df = df_xls[columns].copy()\n",
    "# df = df_xls[columns].head(105).copy() # test only\n",
    "\n",
    "print(df.head())"
   ]
  },
  {
   "cell_type": "markdown",
   "id": "71df0ab8-43d2-4631-bc8e-5b1b804381a5",
   "metadata": {},
   "source": [
    "# 3. PVGIS"
   ]
  },
  {
   "cell_type": "markdown",
   "id": "1a58f4f0-3957-41bf-856c-aa89a4cff2dd",
   "metadata": {},
   "source": [
    "## 3.1 Create URL"
   ]
  },
  {
   "cell_type": "code",
   "execution_count": 17,
   "id": "1f351a93",
   "metadata": {},
   "outputs": [],
   "source": [
    "def get_url(lat, lon):    \n",
    "    \n",
    "    url_base = \"https://re.jrc.ec.europa.eu/api/v5_2/seriescalc?\"\n",
    "    \n",
    "    pvgis_params = dict(\n",
    "        peakpower=peakpower,\n",
    "        loss=loss,\n",
    "        startyear=startyear,\n",
    "        endyear=endyear,\n",
    "        pvcalculation=pvcalculation, # \"0\" outputs only solar radiation calculations, \"1\" outputs the estimation of hourly PV production as well\n",
    "        optimalangles=optimalangles,\n",
    "        lat=lat,\n",
    "        lon=lon,\n",
    "        outputformat = 'json',\n",
    "    )   \n",
    "\n",
    "    return url_base + \"&\".join([f'{key}={value}' for key, value in pvgis_params.items()])\n"
   ]
  },
  {
   "cell_type": "markdown",
   "id": "9c707ad5-6bd6-43cd-8dcc-c3b5398fb81b",
   "metadata": {},
   "source": [
    "## 3.2 Parse PVGIS"
   ]
  },
  {
   "cell_type": "code",
   "execution_count": 18,
   "id": "36b52fad-0f64-4be5-a2f0-ae23b6fb87a4",
   "metadata": {},
   "outputs": [],
   "source": [
    "def parse_json(id, data):    \n",
    "    \n",
    "    # ____________ parse data to df\n",
    "    df_input        = pd.json_normalize(data.get('inputs'))\n",
    "    df_output       = pd.json_normalize(data.get('outputs').get('hourly'))        \n",
    "    latitude        = df_input['location.latitude'].values\n",
    "    \n",
    "    # ____________ get optimal angles\n",
    "    slope_optimized   = df_input['mounting_system.fixed.slope.value'].values\n",
    "    azimuth_optimized = df_input['mounting_system.fixed.azimuth.value'].values    \n",
    "    azimuth_corrected = 0 if float(latitude) < 0 else 180\n",
    "\n",
    "    # ____________ convert the 'Date' column to datetime format: round minutes from timestamp (do not trunc the timestamp - it would cause a shift in some readings)\n",
    "    df_power               = df_output[['time', 'P']].copy() \n",
    "    df_power['time']       = pd.to_datetime(df_power['time'], format='%Y%m%d:%H%M').round('H')\n",
    "    df_power['local_time'] = df_power['time'] + timedelta(hours = time_zone)\n",
    "    \n",
    "    # ____________ reformat timestamp (remove minutes)\n",
    "    df_power['local_time']  = df_power['local_time'].dt.strftime('%Y-%m-%d:%H')    \n",
    "\n",
    "    # ____________ set datetime index\n",
    "    df_power = df_power.set_index(df_power['local_time'])\n",
    "    df_power = df_power.drop(['time', 'local_time'], axis=1)   \n",
    "    \n",
    "    # ____________ transpose df\n",
    "    df_tranpose = df_power[['P']].transpose()   \n",
    "    \n",
    "    # ____________ add columns\n",
    "    df_tranpose.insert(0, 'azimuth_corrected', azimuth_corrected)\n",
    "    df_tranpose.insert(0, 'azimuth', azimuth_optimized)\n",
    "    df_tranpose.insert(0, 'slope', slope_optimized)\n",
    "    df_tranpose.insert(0, 'id', id)\n",
    "    \n",
    "    return df_tranpose   \n",
    "    "
   ]
  },
  {
   "cell_type": "markdown",
   "id": "fb87506f-4340-4b45-b0d7-e810da19b7de",
   "metadata": {},
   "source": [
    "## 3.3 Query PVGIS"
   ]
  },
  {
   "cell_type": "code",
   "execution_count": 27,
   "id": "76daeca6-783b-44c8-bc93-3b4a31665896",
   "metadata": {},
   "outputs": [],
   "source": [
    "def save_csv(dfs, dfs_error):\n",
    "    \"\"\" save csv as compressed files\"\"\"\n",
    "\n",
    "    df_merged = pd.concat(dfs.values(), ignore_index=True)            \n",
    "    df_merged.to_csv(f\"{csv_outfile}.gz\", index = False, compression='gzip')\n",
    "    \n",
    "    if dfs_error:    \n",
    "        df_merged_error = pd.concat(dfs_error.values(), ignore_index=True)    \n",
    "        df_merged_error.to_csv(f\"{csv_errors}.gz\", index = False, compression='gzip')             \n"
   ]
  },
  {
   "cell_type": "code",
   "execution_count": null,
   "id": "4135047b",
   "metadata": {
    "tags": []
   },
   "outputs": [
    {
     "name": "stdout",
     "output_type": "stream",
     "text": [
      "done 1: id=911 url=https://re.jrc.ec.europa.eu/api/v5_2/seriescalc?peakpower=1&loss=14&startyear=2020&endyear=2020&pvcalculation=1&optimalangles=1&lat=8.42094&lon=-11.50397&outputformat=json\n",
      "done 2: id=912 url=https://re.jrc.ec.europa.eu/api/v5_2/seriescalc?peakpower=1&loss=14&startyear=2020&endyear=2020&pvcalculation=1&optimalangles=1&lat=8.419798&lon=-11.50324&outputformat=json\n",
      "done 3: id=913 url=https://re.jrc.ec.europa.eu/api/v5_2/seriescalc?peakpower=1&loss=14&startyear=2020&endyear=2020&pvcalculation=1&optimalangles=1&lat=8.474449&lon=-11.43053&outputformat=json\n",
      "done 4: id=914 url=https://re.jrc.ec.europa.eu/api/v5_2/seriescalc?peakpower=1&loss=14&startyear=2020&endyear=2020&pvcalculation=1&optimalangles=1&lat=8.419866&lon=-11.50328&outputformat=json\n",
      "done 5: id=915 url=https://re.jrc.ec.europa.eu/api/v5_2/seriescalc?peakpower=1&loss=14&startyear=2020&endyear=2020&pvcalculation=1&optimalangles=1&lat=8.471179&lon=-11.3226&outputformat=json\n",
      "done 6: id=916 url=https://re.jrc.ec.europa.eu/api/v5_2/seriescalc?peakpower=1&loss=14&startyear=2020&endyear=2020&pvcalculation=1&optimalangles=1&lat=8.421001&lon=-11.50412&outputformat=json\n",
      "done 7: id=917 url=https://re.jrc.ec.europa.eu/api/v5_2/seriescalc?peakpower=1&loss=14&startyear=2020&endyear=2020&pvcalculation=1&optimalangles=1&lat=8.421031&lon=-11.50401&outputformat=json\n",
      "done 8: id=918 url=https://re.jrc.ec.europa.eu/api/v5_2/seriescalc?peakpower=1&loss=14&startyear=2020&endyear=2020&pvcalculation=1&optimalangles=1&lat=8.482491&lon=-11.29085&outputformat=json\n",
      "done 9: id=919 url=https://re.jrc.ec.europa.eu/api/v5_2/seriescalc?peakpower=1&loss=14&startyear=2020&endyear=2020&pvcalculation=1&optimalangles=1&lat=8.473079&lon=-11.43815&outputformat=json\n",
      "done 10: id=920 url=https://re.jrc.ec.europa.eu/api/v5_2/seriescalc?peakpower=1&loss=14&startyear=2020&endyear=2020&pvcalculation=1&optimalangles=1&lat=8.382172&lon=-11.33687&outputformat=json\n",
      "done 11: id=921 url=https://re.jrc.ec.europa.eu/api/v5_2/seriescalc?peakpower=1&loss=14&startyear=2020&endyear=2020&pvcalculation=1&optimalangles=1&lat=8.473008&lon=-11.43807&outputformat=json\n",
      "done 12: id=922 url=https://re.jrc.ec.europa.eu/api/v5_2/seriescalc?peakpower=1&loss=14&startyear=2020&endyear=2020&pvcalculation=1&optimalangles=1&lat=8.416367&lon=-11.36576&outputformat=json\n",
      "done 13: id=923 url=https://re.jrc.ec.europa.eu/api/v5_2/seriescalc?peakpower=1&loss=14&startyear=2020&endyear=2020&pvcalculation=1&optimalangles=1&lat=8.420947&lon=-11.50402&outputformat=json\n",
      "done 14: id=924 url=https://re.jrc.ec.europa.eu/api/v5_2/seriescalc?peakpower=1&loss=14&startyear=2020&endyear=2020&pvcalculation=1&optimalangles=1&lat=8.472862&lon=-11.43847&outputformat=json\n",
      "done 15: id=925 url=https://re.jrc.ec.europa.eu/api/v5_2/seriescalc?peakpower=1&loss=14&startyear=2020&endyear=2020&pvcalculation=1&optimalangles=1&lat=8.484483&lon=-11.29033&outputformat=json\n",
      "done 16: id=926 url=https://re.jrc.ec.europa.eu/api/v5_2/seriescalc?peakpower=1&loss=14&startyear=2020&endyear=2020&pvcalculation=1&optimalangles=1&lat=8.378089&lon=-11.33315&outputformat=json\n",
      "done 17: id=927 url=https://re.jrc.ec.europa.eu/api/v5_2/seriescalc?peakpower=1&loss=14&startyear=2020&endyear=2020&pvcalculation=1&optimalangles=1&lat=8.434327&lon=-11.3219&outputformat=json\n",
      "done 18: id=928 url=https://re.jrc.ec.europa.eu/api/v5_2/seriescalc?peakpower=1&loss=14&startyear=2020&endyear=2020&pvcalculation=1&optimalangles=1&lat=8.379464&lon=-11.31578&outputformat=json\n",
      "done 19: id=929 url=https://re.jrc.ec.europa.eu/api/v5_2/seriescalc?peakpower=1&loss=14&startyear=2020&endyear=2020&pvcalculation=1&optimalangles=1&lat=8.453984&lon=-11.31644&outputformat=json\n",
      "done 20: id=930 url=https://re.jrc.ec.europa.eu/api/v5_2/seriescalc?peakpower=1&loss=14&startyear=2020&endyear=2020&pvcalculation=1&optimalangles=1&lat=8.426299&lon=-11.3317&outputformat=json\n",
      "done 21: id=931 url=https://re.jrc.ec.europa.eu/api/v5_2/seriescalc?peakpower=1&loss=14&startyear=2020&endyear=2020&pvcalculation=1&optimalangles=1&lat=8.478193&lon=-11.43532&outputformat=json\n",
      "done 22: id=932 url=https://re.jrc.ec.europa.eu/api/v5_2/seriescalc?peakpower=1&loss=14&startyear=2020&endyear=2020&pvcalculation=1&optimalangles=1&lat=8.45382&lon=-11.4675&outputformat=json\n",
      "done 23: id=933 url=https://re.jrc.ec.europa.eu/api/v5_2/seriescalc?peakpower=1&loss=14&startyear=2020&endyear=2020&pvcalculation=1&optimalangles=1&lat=8.419725&lon=-11.5031&outputformat=json\n",
      "done 24: id=934 url=https://re.jrc.ec.europa.eu/api/v5_2/seriescalc?peakpower=1&loss=14&startyear=2020&endyear=2020&pvcalculation=1&optimalangles=1&lat=8.473059&lon=-11.43809&outputformat=json\n",
      "done 25: id=935 url=https://re.jrc.ec.europa.eu/api/v5_2/seriescalc?peakpower=1&loss=14&startyear=2020&endyear=2020&pvcalculation=1&optimalangles=1&lat=8.473114&lon=-11.43819&outputformat=json\n",
      "done 26: id=936 url=https://re.jrc.ec.europa.eu/api/v5_2/seriescalc?peakpower=1&loss=14&startyear=2020&endyear=2020&pvcalculation=1&optimalangles=1&lat=8.473224&lon=-11.43805&outputformat=json\n",
      "done 27: id=937 url=https://re.jrc.ec.europa.eu/api/v5_2/seriescalc?peakpower=1&loss=14&startyear=2020&endyear=2020&pvcalculation=1&optimalangles=1&lat=8.473086&lon=-11.43814&outputformat=json\n",
      "done 28: id=938 url=https://re.jrc.ec.europa.eu/api/v5_2/seriescalc?peakpower=1&loss=14&startyear=2020&endyear=2020&pvcalculation=1&optimalangles=1&lat=8.473062&lon=-11.43804&outputformat=json\n",
      "done 29: id=939 url=https://re.jrc.ec.europa.eu/api/v5_2/seriescalc?peakpower=1&loss=14&startyear=2020&endyear=2020&pvcalculation=1&optimalangles=1&lat=8.420971&lon=-11.50395&outputformat=json\n",
      "done 30: id=940 url=https://re.jrc.ec.europa.eu/api/v5_2/seriescalc?peakpower=1&loss=14&startyear=2020&endyear=2020&pvcalculation=1&optimalangles=1&lat=8.483833&lon=-11.28929&outputformat=json\n",
      "done 31: id=941 url=https://re.jrc.ec.europa.eu/api/v5_2/seriescalc?peakpower=1&loss=14&startyear=2020&endyear=2020&pvcalculation=1&optimalangles=1&lat=8.475024&lon=-11.43308&outputformat=json\n",
      "done 32: id=942 url=https://re.jrc.ec.europa.eu/api/v5_2/seriescalc?peakpower=1&loss=14&startyear=2020&endyear=2020&pvcalculation=1&optimalangles=1&lat=8.457098&lon=-11.46718&outputformat=json\n",
      "done 33: id=943 url=https://re.jrc.ec.europa.eu/api/v5_2/seriescalc?peakpower=1&loss=14&startyear=2020&endyear=2020&pvcalculation=1&optimalangles=1&lat=8.474809&lon=-11.32024&outputformat=json\n",
      "done 34: id=944 url=https://re.jrc.ec.europa.eu/api/v5_2/seriescalc?peakpower=1&loss=14&startyear=2020&endyear=2020&pvcalculation=1&optimalangles=1&lat=8.50745&lon=-11.2987&outputformat=json\n",
      "done 35: id=945 url=https://re.jrc.ec.europa.eu/api/v5_2/seriescalc?peakpower=1&loss=14&startyear=2020&endyear=2020&pvcalculation=1&optimalangles=1&lat=8.473074&lon=-11.43813&outputformat=json\n",
      "done 36: id=946 url=https://re.jrc.ec.europa.eu/api/v5_2/seriescalc?peakpower=1&loss=14&startyear=2020&endyear=2020&pvcalculation=1&optimalangles=1&lat=8.47196&lon=-11.43261&outputformat=json\n",
      "done 37: id=947 url=https://re.jrc.ec.europa.eu/api/v5_2/seriescalc?peakpower=1&loss=14&startyear=2020&endyear=2020&pvcalculation=1&optimalangles=1&lat=8.412316&lon=-11.36722&outputformat=json\n",
      "done 38: id=948 url=https://re.jrc.ec.europa.eu/api/v5_2/seriescalc?peakpower=1&loss=14&startyear=2020&endyear=2020&pvcalculation=1&optimalangles=1&lat=8.474994&lon=-11.43307&outputformat=json\n",
      "done 39: id=949 url=https://re.jrc.ec.europa.eu/api/v5_2/seriescalc?peakpower=1&loss=14&startyear=2020&endyear=2020&pvcalculation=1&optimalangles=1&lat=8.444951&lon=-11.32665&outputformat=json\n",
      "done 40: id=950 url=https://re.jrc.ec.europa.eu/api/v5_2/seriescalc?peakpower=1&loss=14&startyear=2020&endyear=2020&pvcalculation=1&optimalangles=1&lat=8.534452&lon=-11.45348&outputformat=json\n",
      "done 41: id=951 url=https://re.jrc.ec.europa.eu/api/v5_2/seriescalc?peakpower=1&loss=14&startyear=2020&endyear=2020&pvcalculation=1&optimalangles=1&lat=8.51205&lon=-11.40553&outputformat=json\n",
      "done 42: id=952 url=https://re.jrc.ec.europa.eu/api/v5_2/seriescalc?peakpower=1&loss=14&startyear=2020&endyear=2020&pvcalculation=1&optimalangles=1&lat=8.470146&lon=-11.44067&outputformat=json\n",
      "done 43: id=953 url=https://re.jrc.ec.europa.eu/api/v5_2/seriescalc?peakpower=1&loss=14&startyear=2020&endyear=2020&pvcalculation=1&optimalangles=1&lat=8.45642&lon=-11.26748&outputformat=json\n",
      "done 44: id=954 url=https://re.jrc.ec.europa.eu/api/v5_2/seriescalc?peakpower=1&loss=14&startyear=2020&endyear=2020&pvcalculation=1&optimalangles=1&lat=8.398118&lon=-11.29343&outputformat=json\n",
      "done 45: id=955 url=https://re.jrc.ec.europa.eu/api/v5_2/seriescalc?peakpower=1&loss=14&startyear=2020&endyear=2020&pvcalculation=1&optimalangles=1&lat=8.520864&lon=-11.42173&outputformat=json\n",
      "done 46: id=956 url=https://re.jrc.ec.europa.eu/api/v5_2/seriescalc?peakpower=1&loss=14&startyear=2020&endyear=2020&pvcalculation=1&optimalangles=1&lat=8.381966&lon=-11.33395&outputformat=json\n",
      "done 47: id=957 url=https://re.jrc.ec.europa.eu/api/v5_2/seriescalc?peakpower=1&loss=14&startyear=2020&endyear=2020&pvcalculation=1&optimalangles=1&lat=8.401874&lon=-11.32824&outputformat=json\n",
      "done 48: id=958 url=https://re.jrc.ec.europa.eu/api/v5_2/seriescalc?peakpower=1&loss=14&startyear=2020&endyear=2020&pvcalculation=1&optimalangles=1&lat=8.489238&lon=-11.28719&outputformat=json\n",
      "done 49: id=959 url=https://re.jrc.ec.europa.eu/api/v5_2/seriescalc?peakpower=1&loss=14&startyear=2020&endyear=2020&pvcalculation=1&optimalangles=1&lat=8.413917&lon=-11.50881&outputformat=json\n",
      "done 50: id=960 url=https://re.jrc.ec.europa.eu/api/v5_2/seriescalc?peakpower=1&loss=14&startyear=2020&endyear=2020&pvcalculation=1&optimalangles=1&lat=8.415474&lon=-11.50714&outputformat=json\n",
      "done 51: id=961 url=https://re.jrc.ec.europa.eu/api/v5_2/seriescalc?peakpower=1&loss=14&startyear=2020&endyear=2020&pvcalculation=1&optimalangles=1&lat=8.058576&lon=-11.25779&outputformat=json\n",
      "done 52: id=962 url=https://re.jrc.ec.europa.eu/api/v5_2/seriescalc?peakpower=1&loss=14&startyear=2020&endyear=2020&pvcalculation=1&optimalangles=1&lat=8.03793&lon=-11.27691&outputformat=json\n"
     ]
    }
   ],
   "source": [
    "i = 0\n",
    "dfs = dict()\n",
    "dfs_error = dict()\n",
    "\n",
    "for idx, row in df.iterrows(): \n",
    "    \n",
    "    id = row['idSet'].astype(int)\n",
    "    lat = row['latitude'].astype(str)\n",
    "    lon = row['longitude'].astype(str)\n",
    "    url = get_url (lat,lon)\n",
    "\n",
    "    # _____________ get data from pvgis\n",
    "    response = requests.get(url)\n",
    "    row_json = json.loads(response.text)    \n",
    "\n",
    "    # _____________ parse data from pvgis\n",
    "    try:            \n",
    "        dfs[id] = parse_json(id, row_json) # \n",
    "        print (f'done {i}: id={id} url={url}')\n",
    "    except:\n",
    "        message = row_json['message']\n",
    "        dfs_error[id] = pd.DataFrame(dict(id=id,lat=lat,lon=lon,message=message,url=url), index=[0])\n",
    "        print (f'ERROR {i} --> id: {id}, message: {message} url: {url}')\n",
    "\n",
    "    # _____________ save partial results\n",
    "    if i > 100:  \n",
    "        save_csv(dfs, dfs_error)        \n",
    "        i = 0\n",
    "        clear_output(wait=False)\n",
    "\n",
    "    i +=1\n",
    "            \n",
    "# _____________ save final results\n",
    "save_csv(dfs, dfs_error)  \n"
   ]
  },
  {
   "cell_type": "code",
   "execution_count": 11,
   "id": "b922d57f-2871-4c61-b060-66618be37ce9",
   "metadata": {},
   "outputs": [],
   "source": [
    "\n",
    "    "
   ]
  },
  {
   "cell_type": "code",
   "execution_count": null,
   "id": "5e45ded8-f3b1-47fe-a299-9470619ee541",
   "metadata": {},
   "outputs": [],
   "source": []
  }
 ],
 "metadata": {
  "kernelspec": {
   "display_name": "Python 3",
   "language": "python",
   "name": "python3"
  },
  "language_info": {
   "codemirror_mode": {
    "name": "ipython",
    "version": 3
   },
   "file_extension": ".py",
   "mimetype": "text/x-python",
   "name": "python",
   "nbconvert_exporter": "python",
   "pygments_lexer": "ipython3",
   "version": "3.8.10"
  }
 },
 "nbformat": 4,
 "nbformat_minor": 5
}
