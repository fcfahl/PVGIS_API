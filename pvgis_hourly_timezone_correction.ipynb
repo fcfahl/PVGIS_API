{
 "cells": [
  {
   "cell_type": "code",
   "execution_count": 21,
   "id": "da541e2d",
   "metadata": {},
   "outputs": [],
   "source": [
    "# https://joint-research-centre.ec.europa.eu/pvgis-online-tool/getting-started-pvgis/api-non-interactive-service_en\n",
    "\n",
    "import os, csv, json, requests\n",
    "import pandas as pd\n",
    "import numpy as np\n",
    "from datetime import datetime, timedelta, date\n",
    "from zipfile import ZipFile\n",
    "from IPython.display import clear_output\n",
    "\n",
    "from pathlib import Path\n",
    "pd.options.display.float_format = '{:.2f}'.format"
   ]
  },
  {
   "cell_type": "code",
   "execution_count": 23,
   "id": "6dfe37c5-cadb-40dd-8261-a6207cbdb4a0",
   "metadata": {},
   "outputs": [],
   "source": [
    "__author__  = \"Fernando Fahl <fernando.fahl@gmail.com>\"\n",
    "__version__ = \"1.0\"\n",
    "__date__    = \"March 2023\""
   ]
  },
  {
   "cell_type": "markdown",
   "id": "c023ff72-c38d-445b-8a50-179b7d35828f",
   "metadata": {},
   "source": [
    "# 1. Parameters"
   ]
  },
  {
   "cell_type": "markdown",
   "id": "1c24d73d-1369-4bed-b0d4-ae9c8ae5171b",
   "metadata": {},
   "source": [
    "## 1.1 PVGIS"
   ]
  },
  {
   "cell_type": "code",
   "execution_count": 13,
   "id": "22ebe686-3102-413f-ba7e-19efa35be738",
   "metadata": {},
   "outputs": [],
   "source": [
    "startyear     = 2020\n",
    "endyear       = 2020\n",
    "peakpower     = 1\n",
    "loss          = 14\n",
    "pvcalculation = 1 # \"0\" outputs only solar radiation calculations, \"1\" outputs the estimation of hourly PV production as well\n",
    "optimalangles = 1 #  Value of 1 for \"yes\". All other values (or no value) mean \"no\". \n",
    "\n",
    "excel_filename = 'SLE_results1.13.xlsx'"
   ]
  },
  {
   "cell_type": "markdown",
   "id": "33694726-653c-47cb-89f6-1171deb44a8f",
   "metadata": {},
   "source": [
    "## 1.2 Time zone transformation"
   ]
  },
  {
   "cell_type": "markdown",
   "id": "7c8faf12-4323-4d79-8daa-0b6ddbd42ac1",
   "metadata": {},
   "source": [
    "This transformation applies to the entire dataset. \\\n",
    "If required different time zones, split the input dataset in different files, one for each time zone.\\\n",
    "It shifts the data according the the time zone, and it may generate data in a different time period (e.g. last or first column may be in different years)"
   ]
  },
  {
   "cell_type": "code",
   "execution_count": 14,
   "id": "7d7ebc15-1e42-4810-a3ab-ca640cd4ac36",
   "metadata": {},
   "outputs": [],
   "source": [
    "time_zone     = 0"
   ]
  },
  {
   "cell_type": "markdown",
   "id": "8d5727d7-9d1c-44af-96bf-3464f6146891",
   "metadata": {},
   "source": [
    "# 2. Data load"
   ]
  },
  {
   "cell_type": "code",
   "execution_count": 24,
   "id": "0fead04b",
   "metadata": {},
   "outputs": [],
   "source": [
    "today       = date.today().isoformat()\n",
    "home        = Path(os.getcwd())\n",
    "xls_file    = home.joinpath(excel_filename)\n",
    "\n",
    "csv_outfile = home.joinpath(f'{xls_file.stem}_PVGIS_year{startyear}to{endyear}_timezone{time_zone}_{today}.csv')\n",
    "csv_errors  = home.joinpath(f'{xls_file.stem}_ERRORs_{today}.csv')\n",
    "\n",
    "# print (csv_outfile)\n",
    "# print (csv_errors)"
   ]
  },
  {
   "cell_type": "code",
   "execution_count": 16,
   "id": "014d6b49",
   "metadata": {},
   "outputs": [
    {
     "name": "stdout",
     "output_type": "stream",
     "text": [
      "   idSet  latitude  longitude\n",
      "0      1      7.82     -10.92\n",
      "1      2      8.28     -10.38\n",
      "2      3      8.28     -10.37\n",
      "3      4      8.21     -10.35\n",
      "4      5      8.17     -10.36\n"
     ]
    }
   ],
   "source": [
    "df_xls = pd.read_excel(xls_file)\n",
    "columns = ['idSet','latitude','longitude']\n",
    "df = df_xls[columns].copy()\n",
    "# df = df_xls[columns].head(105).copy() # test only\n",
    "\n",
    "print(df.head())"
   ]
  },
  {
   "cell_type": "markdown",
   "id": "71df0ab8-43d2-4631-bc8e-5b1b804381a5",
   "metadata": {},
   "source": [
    "# 3. PVGIS"
   ]
  },
  {
   "cell_type": "markdown",
   "id": "1a58f4f0-3957-41bf-856c-aa89a4cff2dd",
   "metadata": {},
   "source": [
    "## 3.1 Create URL"
   ]
  },
  {
   "cell_type": "code",
   "execution_count": 17,
   "id": "1f351a93",
   "metadata": {},
   "outputs": [],
   "source": [
    "def get_url(lat, lon):    \n",
    "    \n",
    "    url_base = \"https://re.jrc.ec.europa.eu/api/v5_2/seriescalc?\"\n",
    "    \n",
    "    pvgis_params = dict(\n",
    "        peakpower=peakpower,\n",
    "        loss=loss,\n",
    "        startyear=startyear,\n",
    "        endyear=endyear,\n",
    "        pvcalculation=pvcalculation, # \"0\" outputs only solar radiation calculations, \"1\" outputs the estimation of hourly PV production as well\n",
    "        optimalangles=optimalangles,\n",
    "        lat=lat,\n",
    "        lon=lon,\n",
    "        outputformat = 'json',\n",
    "    )   \n",
    "\n",
    "    return url_base + \"&\".join([f'{key}={value}' for key, value in pvgis_params.items()])\n"
   ]
  },
  {
   "cell_type": "markdown",
   "id": "9c707ad5-6bd6-43cd-8dcc-c3b5398fb81b",
   "metadata": {},
   "source": [
    "## 3.2 Parse PVGIS"
   ]
  },
  {
   "cell_type": "code",
   "execution_count": 18,
   "id": "36b52fad-0f64-4be5-a2f0-ae23b6fb87a4",
   "metadata": {},
   "outputs": [],
   "source": [
    "def parse_json(id, data):    \n",
    "    \n",
    "    # ____________ parse data to df\n",
    "    df_input        = pd.json_normalize(data.get('inputs'))\n",
    "    df_output       = pd.json_normalize(data.get('outputs').get('hourly'))        \n",
    "    latitude        = df_input['location.latitude'].values\n",
    "    \n",
    "    # ____________ get optimal angles\n",
    "    slope_optimized   = df_input['mounting_system.fixed.slope.value'].values\n",
    "    azimuth_optimized = df_input['mounting_system.fixed.azimuth.value'].values    \n",
    "    azimuth_corrected = 0 if float(latitude) < 0 else 180\n",
    "\n",
    "    # ____________ convert the 'Date' column to datetime format: round minutes from timestamp (do not trunc the timestamp - it would cause a shift in some readings)\n",
    "    df_power               = df_output[['time', 'P']].copy() \n",
    "    df_power['time']       = pd.to_datetime(df_power['time'], format='%Y%m%d:%H%M').round('H')\n",
    "    df_power['local_time'] = df_power['time'] + timedelta(hours = time_zone)\n",
    "    \n",
    "    # ____________ reformat timestamp (remove minutes)\n",
    "    df_power['local_time']  = df_power['local_time'].dt.strftime('%Y-%m-%d:%H')    \n",
    "\n",
    "    # ____________ set datetime index\n",
    "    df_power = df_power.set_index(df_power['local_time'])\n",
    "    df_power = df_power.drop(['time', 'local_time'], axis=1)   \n",
    "    \n",
    "    # ____________ transpose df\n",
    "    df_tranpose = df_power[['P']].transpose()   \n",
    "    \n",
    "    # ____________ add columns\n",
    "    df_tranpose.insert(0, 'azimuth_corrected', azimuth_corrected)\n",
    "    df_tranpose.insert(0, 'azimuth', azimuth_optimized)\n",
    "    df_tranpose.insert(0, 'slope', slope_optimized)\n",
    "    df_tranpose.insert(0, 'id', id)\n",
    "    \n",
    "    return df_tranpose   \n",
    "    "
   ]
  },
  {
   "cell_type": "markdown",
   "id": "fb87506f-4340-4b45-b0d7-e810da19b7de",
   "metadata": {},
   "source": [
    "## 3.3 Query PVGIS"
   ]
  },
  {
   "cell_type": "code",
   "execution_count": 27,
   "id": "76daeca6-783b-44c8-bc93-3b4a31665896",
   "metadata": {},
   "outputs": [],
   "source": [
    "def save_csv(dfs, dfs_error):\n",
    "    \"\"\" save csv as compressed files\"\"\"\n",
    "\n",
    "    df_merged = pd.concat(dfs.values(), ignore_index=True)            \n",
    "    df_merged.to_csv(f\"{csv_outfile}.gz\", index = False, compression='gzip')\n",
    "    \n",
    "    if dfs_error:    \n",
    "        df_merged_error = pd.concat(dfs_error.values(), ignore_index=True)    \n",
    "        df_merged_error.to_csv(f\"{csv_errors}.gz\", index = False, compression='gzip')             \n"
   ]
  },
  {
   "cell_type": "code",
   "execution_count": null,
   "id": "4135047b",
   "metadata": {
    "tags": []
   },
   "outputs": [
    {
     "name": "stdout",
     "output_type": "stream",
     "text": [
      "ERROR 1 --> id: 7375, message: Location over the sea. Please, select another location url: https://re.jrc.ec.europa.eu/api/v5_2/seriescalc?peakpower=1&loss=14&startyear=2020&endyear=2020&pvcalculation=1&optimalangles=1&lat=8.340158&lon=-12.89304&outputformat=json\n",
      "ERROR 2 --> id: 7376, message: Location over the sea. Please, select another location url: https://re.jrc.ec.europa.eu/api/v5_2/seriescalc?peakpower=1&loss=14&startyear=2020&endyear=2020&pvcalculation=1&optimalangles=1&lat=8.365526&lon=-12.95896&outputformat=json\n",
      "ERROR 3 --> id: 7377, message: Location over the sea. Please, select another location url: https://re.jrc.ec.europa.eu/api/v5_2/seriescalc?peakpower=1&loss=14&startyear=2020&endyear=2020&pvcalculation=1&optimalangles=1&lat=8.313787&lon=-12.94177&outputformat=json\n",
      "ERROR 4 --> id: 7378, message: Location over the sea. Please, select another location url: https://re.jrc.ec.europa.eu/api/v5_2/seriescalc?peakpower=1&loss=14&startyear=2020&endyear=2020&pvcalculation=1&optimalangles=1&lat=8.360421&lon=-12.95459&outputformat=json\n",
      "ERROR 5 --> id: 7379, message: Location over the sea. Please, select another location url: https://re.jrc.ec.europa.eu/api/v5_2/seriescalc?peakpower=1&loss=14&startyear=2020&endyear=2020&pvcalculation=1&optimalangles=1&lat=8.276084&lon=-12.99372&outputformat=json\n",
      "ERROR 6 --> id: 7380, message: Location over the sea. Please, select another location url: https://re.jrc.ec.europa.eu/api/v5_2/seriescalc?peakpower=1&loss=14&startyear=2020&endyear=2020&pvcalculation=1&optimalangles=1&lat=8.334188&lon=-12.99593&outputformat=json\n",
      "ERROR 7 --> id: 7381, message: Location over the sea. Please, select another location url: https://re.jrc.ec.europa.eu/api/v5_2/seriescalc?peakpower=1&loss=14&startyear=2020&endyear=2020&pvcalculation=1&optimalangles=1&lat=8.362365&lon=-12.92891&outputformat=json\n",
      "ERROR 8 --> id: 7382, message: Location over the sea. Please, select another location url: https://re.jrc.ec.europa.eu/api/v5_2/seriescalc?peakpower=1&loss=14&startyear=2020&endyear=2020&pvcalculation=1&optimalangles=1&lat=8.322833&lon=-13.04346&outputformat=json\n",
      "ERROR 9 --> id: 7383, message: Location over the sea. Please, select another location url: https://re.jrc.ec.europa.eu/api/v5_2/seriescalc?peakpower=1&loss=14&startyear=2020&endyear=2020&pvcalculation=1&optimalangles=1&lat=8.322855&lon=-13.04342&outputformat=json\n",
      "ERROR 10 --> id: 7384, message: Location over the sea. Please, select another location url: https://re.jrc.ec.europa.eu/api/v5_2/seriescalc?peakpower=1&loss=14&startyear=2020&endyear=2020&pvcalculation=1&optimalangles=1&lat=8.31898&lon=-13.03028&outputformat=json\n",
      "ERROR 11 --> id: 7385, message: Location over the sea. Please, select another location url: https://re.jrc.ec.europa.eu/api/v5_2/seriescalc?peakpower=1&loss=14&startyear=2020&endyear=2020&pvcalculation=1&optimalangles=1&lat=8.326797&lon=-13.04189&outputformat=json\n",
      "ERROR 12 --> id: 7386, message: Location over the sea. Please, select another location url: https://re.jrc.ec.europa.eu/api/v5_2/seriescalc?peakpower=1&loss=14&startyear=2020&endyear=2020&pvcalculation=1&optimalangles=1&lat=8.326642&lon=-13.04164&outputformat=json\n",
      "ERROR 13 --> id: 7387, message: Location over the sea. Please, select another location url: https://re.jrc.ec.europa.eu/api/v5_2/seriescalc?peakpower=1&loss=14&startyear=2020&endyear=2020&pvcalculation=1&optimalangles=1&lat=8.332208&lon=-13.04972&outputformat=json\n",
      "ERROR 14 --> id: 7388, message: Location over the sea. Please, select another location url: https://re.jrc.ec.europa.eu/api/v5_2/seriescalc?peakpower=1&loss=14&startyear=2020&endyear=2020&pvcalculation=1&optimalangles=1&lat=8.342348&lon=-13.04915&outputformat=json\n",
      "ERROR 15 --> id: 7389, message: Location over the sea. Please, select another location url: https://re.jrc.ec.europa.eu/api/v5_2/seriescalc?peakpower=1&loss=14&startyear=2020&endyear=2020&pvcalculation=1&optimalangles=1&lat=8.337625&lon=-12.94416&outputformat=json\n",
      "ERROR 16 --> id: 7390, message: Location over the sea. Please, select another location url: https://re.jrc.ec.europa.eu/api/v5_2/seriescalc?peakpower=1&loss=14&startyear=2020&endyear=2020&pvcalculation=1&optimalangles=1&lat=8.266917&lon=-12.98829&outputformat=json\n",
      "ERROR 17 --> id: 7391, message: Location over the sea. Please, select another location url: https://re.jrc.ec.europa.eu/api/v5_2/seriescalc?peakpower=1&loss=14&startyear=2020&endyear=2020&pvcalculation=1&optimalangles=1&lat=8.266851&lon=-12.98836&outputformat=json\n",
      "ERROR 18 --> id: 7392, message: Location over the sea. Please, select another location url: https://re.jrc.ec.europa.eu/api/v5_2/seriescalc?peakpower=1&loss=14&startyear=2020&endyear=2020&pvcalculation=1&optimalangles=1&lat=8.266851&lon=-12.98831&outputformat=json\n",
      "ERROR 19 --> id: 7393, message: Location over the sea. Please, select another location url: https://re.jrc.ec.europa.eu/api/v5_2/seriescalc?peakpower=1&loss=14&startyear=2020&endyear=2020&pvcalculation=1&optimalangles=1&lat=8.351999&lon=-13.01764&outputformat=json\n",
      "ERROR 20 --> id: 7394, message: Location over the sea. Please, select another location url: https://re.jrc.ec.europa.eu/api/v5_2/seriescalc?peakpower=1&loss=14&startyear=2020&endyear=2020&pvcalculation=1&optimalangles=1&lat=8.352127&lon=-13.01757&outputformat=json\n",
      "ERROR 21 --> id: 7395, message: Location over the sea. Please, select another location url: https://re.jrc.ec.europa.eu/api/v5_2/seriescalc?peakpower=1&loss=14&startyear=2020&endyear=2020&pvcalculation=1&optimalangles=1&lat=8.336464&lon=-13.00304&outputformat=json\n",
      "ERROR 22 --> id: 7396, message: Location over the sea. Please, select another location url: https://re.jrc.ec.europa.eu/api/v5_2/seriescalc?peakpower=1&loss=14&startyear=2020&endyear=2020&pvcalculation=1&optimalangles=1&lat=8.336857&lon=-13.00125&outputformat=json\n",
      "ERROR 23 --> id: 7397, message: Location over the sea. Please, select another location url: https://re.jrc.ec.europa.eu/api/v5_2/seriescalc?peakpower=1&loss=14&startyear=2020&endyear=2020&pvcalculation=1&optimalangles=1&lat=8.332601&lon=-13.04334&outputformat=json\n",
      "ERROR 24 --> id: 7398, message: Location over the sea. Please, select another location url: https://re.jrc.ec.europa.eu/api/v5_2/seriescalc?peakpower=1&loss=14&startyear=2020&endyear=2020&pvcalculation=1&optimalangles=1&lat=8.360391&lon=-13.00127&outputformat=json\n",
      "ERROR 25 --> id: 7399, message: Location over the sea. Please, select another location url: https://re.jrc.ec.europa.eu/api/v5_2/seriescalc?peakpower=1&loss=14&startyear=2020&endyear=2020&pvcalculation=1&optimalangles=1&lat=8.325675&lon=-13.04429&outputformat=json\n",
      "ERROR 26 --> id: 7400, message: Location over the sea. Please, select another location url: https://re.jrc.ec.europa.eu/api/v5_2/seriescalc?peakpower=1&loss=14&startyear=2020&endyear=2020&pvcalculation=1&optimalangles=1&lat=8.325536&lon=-13.04409&outputformat=json\n",
      "ERROR 27 --> id: 7401, message: Location over the sea. Please, select another location url: https://re.jrc.ec.europa.eu/api/v5_2/seriescalc?peakpower=1&loss=14&startyear=2020&endyear=2020&pvcalculation=1&optimalangles=1&lat=8.325819&lon=-13.04395&outputformat=json\n",
      "ERROR 28 --> id: 7402, message: Location over the sea. Please, select another location url: https://re.jrc.ec.europa.eu/api/v5_2/seriescalc?peakpower=1&loss=14&startyear=2020&endyear=2020&pvcalculation=1&optimalangles=1&lat=8.46721&lon=-13.22444&outputformat=json\n",
      "ERROR 29 --> id: 7403, message: Location over the sea. Please, select another location url: https://re.jrc.ec.europa.eu/api/v5_2/seriescalc?peakpower=1&loss=14&startyear=2020&endyear=2020&pvcalculation=1&optimalangles=1&lat=8.457746&lon=-13.2173&outputformat=json\n",
      "ERROR 30 --> id: 7404, message: Location over the sea. Please, select another location url: https://re.jrc.ec.europa.eu/api/v5_2/seriescalc?peakpower=1&loss=14&startyear=2020&endyear=2020&pvcalculation=1&optimalangles=1&lat=8.457649&lon=-13.21718&outputformat=json\n",
      "ERROR 31 --> id: 7405, message: Location over the sea. Please, select another location url: https://re.jrc.ec.europa.eu/api/v5_2/seriescalc?peakpower=1&loss=14&startyear=2020&endyear=2020&pvcalculation=1&optimalangles=1&lat=8.399879&lon=-13.11514&outputformat=json\n",
      "ERROR 32 --> id: 7406, message: Location over the sea. Please, select another location url: https://re.jrc.ec.europa.eu/api/v5_2/seriescalc?peakpower=1&loss=14&startyear=2020&endyear=2020&pvcalculation=1&optimalangles=1&lat=8.461523&lon=-13.22126&outputformat=json\n",
      "ERROR 33 --> id: 7407, message: Location over the sea. Please, select another location url: https://re.jrc.ec.europa.eu/api/v5_2/seriescalc?peakpower=1&loss=14&startyear=2020&endyear=2020&pvcalculation=1&optimalangles=1&lat=8.461545&lon=-13.22128&outputformat=json\n",
      "ERROR 34 --> id: 7408, message: Location over the sea. Please, select another location url: https://re.jrc.ec.europa.eu/api/v5_2/seriescalc?peakpower=1&loss=14&startyear=2020&endyear=2020&pvcalculation=1&optimalangles=1&lat=8.403328&lon=-13.16646&outputformat=json\n",
      "ERROR 35 --> id: 7409, message: Location over the sea. Please, select another location url: https://re.jrc.ec.europa.eu/api/v5_2/seriescalc?peakpower=1&loss=14&startyear=2020&endyear=2020&pvcalculation=1&optimalangles=1&lat=8.403354&lon=-13.16645&outputformat=json\n",
      "ERROR 36 --> id: 7410, message: Location over the sea. Please, select another location url: https://re.jrc.ec.europa.eu/api/v5_2/seriescalc?peakpower=1&loss=14&startyear=2020&endyear=2020&pvcalculation=1&optimalangles=1&lat=8.468027&lon=-13.21881&outputformat=json\n",
      "ERROR 37 --> id: 7411, message: Location over the sea. Please, select another location url: https://re.jrc.ec.europa.eu/api/v5_2/seriescalc?peakpower=1&loss=14&startyear=2020&endyear=2020&pvcalculation=1&optimalangles=1&lat=8.45904&lon=-13.21187&outputformat=json\n",
      "ERROR 38 --> id: 7412, message: Location over the sea. Please, select another location url: https://re.jrc.ec.europa.eu/api/v5_2/seriescalc?peakpower=1&loss=14&startyear=2020&endyear=2020&pvcalculation=1&optimalangles=1&lat=8.458889&lon=-13.21147&outputformat=json\n",
      "ERROR 39 --> id: 7413, message: Location over the sea. Please, select another location url: https://re.jrc.ec.europa.eu/api/v5_2/seriescalc?peakpower=1&loss=14&startyear=2020&endyear=2020&pvcalculation=1&optimalangles=1&lat=8.46105&lon=-13.24047&outputformat=json\n",
      "ERROR 40 --> id: 7414, message: Location over the sea. Please, select another location url: https://re.jrc.ec.europa.eu/api/v5_2/seriescalc?peakpower=1&loss=14&startyear=2020&endyear=2020&pvcalculation=1&optimalangles=1&lat=8.461095&lon=-13.24043&outputformat=json\n",
      "ERROR 41 --> id: 7415, message: Location over the sea. Please, select another location url: https://re.jrc.ec.europa.eu/api/v5_2/seriescalc?peakpower=1&loss=14&startyear=2020&endyear=2020&pvcalculation=1&optimalangles=1&lat=8.460926&lon=-13.24022&outputformat=json\n",
      "ERROR 42 --> id: 7416, message: Location over the sea. Please, select another location url: https://re.jrc.ec.europa.eu/api/v5_2/seriescalc?peakpower=1&loss=14&startyear=2020&endyear=2020&pvcalculation=1&optimalangles=1&lat=8.407357&lon=-13.17526&outputformat=json\n",
      "ERROR 43 --> id: 7417, message: Location over the sea. Please, select another location url: https://re.jrc.ec.europa.eu/api/v5_2/seriescalc?peakpower=1&loss=14&startyear=2020&endyear=2020&pvcalculation=1&optimalangles=1&lat=8.441707&lon=-13.20899&outputformat=json\n",
      "ERROR 44 --> id: 7418, message: Location over the sea. Please, select another location url: https://re.jrc.ec.europa.eu/api/v5_2/seriescalc?peakpower=1&loss=14&startyear=2020&endyear=2020&pvcalculation=1&optimalangles=1&lat=8.440396&lon=-13.22165&outputformat=json\n",
      "ERROR 45 --> id: 7419, message: Location over the sea. Please, select another location url: https://re.jrc.ec.europa.eu/api/v5_2/seriescalc?peakpower=1&loss=14&startyear=2020&endyear=2020&pvcalculation=1&optimalangles=1&lat=8.453138&lon=-13.23372&outputformat=json\n",
      "ERROR 46 --> id: 7420, message: Location over the sea. Please, select another location url: https://re.jrc.ec.europa.eu/api/v5_2/seriescalc?peakpower=1&loss=14&startyear=2020&endyear=2020&pvcalculation=1&optimalangles=1&lat=8.465201&lon=-13.22198&outputformat=json\n",
      "ERROR 47 --> id: 7421, message: Location over the sea. Please, select another location url: https://re.jrc.ec.europa.eu/api/v5_2/seriescalc?peakpower=1&loss=14&startyear=2020&endyear=2020&pvcalculation=1&optimalangles=1&lat=8.452997&lon=-13.23368&outputformat=json\n",
      "ERROR 48 --> id: 7422, message: Location over the sea. Please, select another location url: https://re.jrc.ec.europa.eu/api/v5_2/seriescalc?peakpower=1&loss=14&startyear=2020&endyear=2020&pvcalculation=1&optimalangles=1&lat=8.465077&lon=-13.22185&outputformat=json\n",
      "ERROR 49 --> id: 7423, message: Location over the sea. Please, select another location url: https://re.jrc.ec.europa.eu/api/v5_2/seriescalc?peakpower=1&loss=14&startyear=2020&endyear=2020&pvcalculation=1&optimalangles=1&lat=8.465104&lon=-13.22191&outputformat=json\n",
      "ERROR 50 --> id: 7424, message: Location over the sea. Please, select another location url: https://re.jrc.ec.europa.eu/api/v5_2/seriescalc?peakpower=1&loss=14&startyear=2020&endyear=2020&pvcalculation=1&optimalangles=1&lat=8.453085&lon=-13.23366&outputformat=json\n",
      "ERROR 51 --> id: 7425, message: Location over the sea. Please, select another location url: https://re.jrc.ec.europa.eu/api/v5_2/seriescalc?peakpower=1&loss=14&startyear=2020&endyear=2020&pvcalculation=1&optimalangles=1&lat=8.457832&lon=-13.23852&outputformat=json\n",
      "ERROR 52 --> id: 7426, message: Location over the sea. Please, select another location url: https://re.jrc.ec.europa.eu/api/v5_2/seriescalc?peakpower=1&loss=14&startyear=2020&endyear=2020&pvcalculation=1&optimalangles=1&lat=8.459646&lon=-13.21565&outputformat=json\n",
      "ERROR 53 --> id: 7427, message: Location over the sea. Please, select another location url: https://re.jrc.ec.europa.eu/api/v5_2/seriescalc?peakpower=1&loss=14&startyear=2020&endyear=2020&pvcalculation=1&optimalangles=1&lat=8.459744&lon=-13.21555&outputformat=json\n",
      "ERROR 54 --> id: 7428, message: Location over the sea. Please, select another location url: https://re.jrc.ec.europa.eu/api/v5_2/seriescalc?peakpower=1&loss=14&startyear=2020&endyear=2020&pvcalculation=1&optimalangles=1&lat=8.452916&lon=-13.21449&outputformat=json\n",
      "ERROR 55 --> id: 7429, message: Location over the sea. Please, select another location url: https://re.jrc.ec.europa.eu/api/v5_2/seriescalc?peakpower=1&loss=14&startyear=2020&endyear=2020&pvcalculation=1&optimalangles=1&lat=8.433517&lon=-13.21815&outputformat=json\n",
      "ERROR 56 --> id: 7430, message: Location over the sea. Please, select another location url: https://re.jrc.ec.europa.eu/api/v5_2/seriescalc?peakpower=1&loss=14&startyear=2020&endyear=2020&pvcalculation=1&optimalangles=1&lat=8.45854&lon=-13.22934&outputformat=json\n",
      "ERROR 57 --> id: 7431, message: Location over the sea. Please, select another location url: https://re.jrc.ec.europa.eu/api/v5_2/seriescalc?peakpower=1&loss=14&startyear=2020&endyear=2020&pvcalculation=1&optimalangles=1&lat=8.421428&lon=-13.18986&outputformat=json\n",
      "ERROR 58 --> id: 7432, message: Location over the sea. Please, select another location url: https://re.jrc.ec.europa.eu/api/v5_2/seriescalc?peakpower=1&loss=14&startyear=2020&endyear=2020&pvcalculation=1&optimalangles=1&lat=8.438401&lon=-13.22613&outputformat=json\n",
      "ERROR 59 --> id: 7433, message: Location over the sea. Please, select another location url: https://re.jrc.ec.europa.eu/api/v5_2/seriescalc?peakpower=1&loss=14&startyear=2020&endyear=2020&pvcalculation=1&optimalangles=1&lat=8.452034&lon=-13.21371&outputformat=json\n",
      "ERROR 60 --> id: 7434, message: Location over the sea. Please, select another location url: https://re.jrc.ec.europa.eu/api/v5_2/seriescalc?peakpower=1&loss=14&startyear=2020&endyear=2020&pvcalculation=1&optimalangles=1&lat=8.396762&lon=-13.11732&outputformat=json\n",
      "ERROR 61 --> id: 7435, message: Location over the sea. Please, select another location url: https://re.jrc.ec.europa.eu/api/v5_2/seriescalc?peakpower=1&loss=14&startyear=2020&endyear=2020&pvcalculation=1&optimalangles=1&lat=8.39703&lon=-13.11729&outputformat=json\n",
      "ERROR 62 --> id: 7436, message: Location over the sea. Please, select another location url: https://re.jrc.ec.europa.eu/api/v5_2/seriescalc?peakpower=1&loss=14&startyear=2020&endyear=2020&pvcalculation=1&optimalangles=1&lat=8.397207&lon=-13.11733&outputformat=json\n",
      "ERROR 63 --> id: 7437, message: Location over the sea. Please, select another location url: https://re.jrc.ec.europa.eu/api/v5_2/seriescalc?peakpower=1&loss=14&startyear=2020&endyear=2020&pvcalculation=1&optimalangles=1&lat=8.387543&lon=-13.15173&outputformat=json\n",
      "ERROR 64 --> id: 7438, message: Location over the sea. Please, select another location url: https://re.jrc.ec.europa.eu/api/v5_2/seriescalc?peakpower=1&loss=14&startyear=2020&endyear=2020&pvcalculation=1&optimalangles=1&lat=8.387545&lon=-13.15176&outputformat=json\n",
      "ERROR 65 --> id: 7439, message: Location over the sea. Please, select another location url: https://re.jrc.ec.europa.eu/api/v5_2/seriescalc?peakpower=1&loss=14&startyear=2020&endyear=2020&pvcalculation=1&optimalangles=1&lat=8.324492&lon=-13.07642&outputformat=json\n",
      "ERROR 66 --> id: 7440, message: Location over the sea. Please, select another location url: https://re.jrc.ec.europa.eu/api/v5_2/seriescalc?peakpower=1&loss=14&startyear=2020&endyear=2020&pvcalculation=1&optimalangles=1&lat=8.324714&lon=-13.07645&outputformat=json\n",
      "ERROR 67 --> id: 7441, message: Location over the sea. Please, select another location url: https://re.jrc.ec.europa.eu/api/v5_2/seriescalc?peakpower=1&loss=14&startyear=2020&endyear=2020&pvcalculation=1&optimalangles=1&lat=8.328198&lon=-13.06347&outputformat=json\n",
      "ERROR 68 --> id: 7442, message: Location over the sea. Please, select another location url: https://re.jrc.ec.europa.eu/api/v5_2/seriescalc?peakpower=1&loss=14&startyear=2020&endyear=2020&pvcalculation=1&optimalangles=1&lat=8.33525&lon=-13.0593&outputformat=json\n",
      "ERROR 69 --> id: 7443, message: Location over the sea. Please, select another location url: https://re.jrc.ec.europa.eu/api/v5_2/seriescalc?peakpower=1&loss=14&startyear=2020&endyear=2020&pvcalculation=1&optimalangles=1&lat=8.385422&lon=-13.11355&outputformat=json\n",
      "ERROR 70 --> id: 7444, message: Location over the sea. Please, select another location url: https://re.jrc.ec.europa.eu/api/v5_2/seriescalc?peakpower=1&loss=14&startyear=2020&endyear=2020&pvcalculation=1&optimalangles=1&lat=8.357796&lon=-13.08772&outputformat=json\n",
      "ERROR 71 --> id: 7445, message: Location over the sea. Please, select another location url: https://re.jrc.ec.europa.eu/api/v5_2/seriescalc?peakpower=1&loss=14&startyear=2020&endyear=2020&pvcalculation=1&optimalangles=1&lat=8.332818&lon=-13.05087&outputformat=json\n",
      "ERROR 72 --> id: 7446, message: Location over the sea. Please, select another location url: https://re.jrc.ec.europa.eu/api/v5_2/seriescalc?peakpower=1&loss=14&startyear=2020&endyear=2020&pvcalculation=1&optimalangles=1&lat=8.307237&lon=-13.05319&outputformat=json\n",
      "ERROR 73 --> id: 7447, message: Location over the sea. Please, select another location url: https://re.jrc.ec.europa.eu/api/v5_2/seriescalc?peakpower=1&loss=14&startyear=2020&endyear=2020&pvcalculation=1&optimalangles=1&lat=8.391418&lon=-13.1425&outputformat=json\n",
      "ERROR 74 --> id: 7448, message: Location over the sea. Please, select another location url: https://re.jrc.ec.europa.eu/api/v5_2/seriescalc?peakpower=1&loss=14&startyear=2020&endyear=2020&pvcalculation=1&optimalangles=1&lat=8.39144&lon=-13.14247&outputformat=json\n",
      "ERROR 75 --> id: 7449, message: Location over the sea. Please, select another location url: https://re.jrc.ec.europa.eu/api/v5_2/seriescalc?peakpower=1&loss=14&startyear=2020&endyear=2020&pvcalculation=1&optimalangles=1&lat=8.325926&lon=-13.06055&outputformat=json\n",
      "ERROR 76 --> id: 7450, message: Location over the sea. Please, select another location url: https://re.jrc.ec.europa.eu/api/v5_2/seriescalc?peakpower=1&loss=14&startyear=2020&endyear=2020&pvcalculation=1&optimalangles=1&lat=8.326282&lon=-13.06061&outputformat=json\n",
      "ERROR 77 --> id: 7451, message: Location over the sea. Please, select another location url: https://re.jrc.ec.europa.eu/api/v5_2/seriescalc?peakpower=1&loss=14&startyear=2020&endyear=2020&pvcalculation=1&optimalangles=1&lat=8.326295&lon=-13.06075&outputformat=json\n",
      "ERROR 78 --> id: 7452, message: Location over the sea. Please, select another location url: https://re.jrc.ec.europa.eu/api/v5_2/seriescalc?peakpower=1&loss=14&startyear=2020&endyear=2020&pvcalculation=1&optimalangles=1&lat=8.319552&lon=-13.05514&outputformat=json\n",
      "ERROR 79 --> id: 7453, message: Location over the sea. Please, select another location url: https://re.jrc.ec.europa.eu/api/v5_2/seriescalc?peakpower=1&loss=14&startyear=2020&endyear=2020&pvcalculation=1&optimalangles=1&lat=8.374267&lon=-13.09933&outputformat=json\n",
      "ERROR 80 --> id: 7454, message: Location over the sea. Please, select another location url: https://re.jrc.ec.europa.eu/api/v5_2/seriescalc?peakpower=1&loss=14&startyear=2020&endyear=2020&pvcalculation=1&optimalangles=1&lat=8.374212&lon=-13.09939&outputformat=json\n",
      "ERROR 81 --> id: 7455, message: Location over the sea. Please, select another location url: https://re.jrc.ec.europa.eu/api/v5_2/seriescalc?peakpower=1&loss=14&startyear=2020&endyear=2020&pvcalculation=1&optimalangles=1&lat=8.357971&lon=-13.08758&outputformat=json\n",
      "ERROR 82 --> id: 7456, message: Location over the sea. Please, select another location url: https://re.jrc.ec.europa.eu/api/v5_2/seriescalc?peakpower=1&loss=14&startyear=2020&endyear=2020&pvcalculation=1&optimalangles=1&lat=8.33676&lon=-13.05394&outputformat=json\n",
      "ERROR 83 --> id: 7457, message: Location over the sea. Please, select another location url: https://re.jrc.ec.europa.eu/api/v5_2/seriescalc?peakpower=1&loss=14&startyear=2020&endyear=2020&pvcalculation=1&optimalangles=1&lat=8.357995&lon=-13.08774&outputformat=json\n",
      "ERROR 84 --> id: 7458, message: Location over the sea. Please, select another location url: https://re.jrc.ec.europa.eu/api/v5_2/seriescalc?peakpower=1&loss=14&startyear=2020&endyear=2020&pvcalculation=1&optimalangles=1&lat=8.336733&lon=-13.05382&outputformat=json\n",
      "ERROR 85 --> id: 7459, message: Location over the sea. Please, select another location url: https://re.jrc.ec.europa.eu/api/v5_2/seriescalc?peakpower=1&loss=14&startyear=2020&endyear=2020&pvcalculation=1&optimalangles=1&lat=8.374347&lon=-13.0994&outputformat=json\n",
      "ERROR 86 --> id: 7460, message: Location over the sea. Please, select another location url: https://re.jrc.ec.europa.eu/api/v5_2/seriescalc?peakpower=1&loss=14&startyear=2020&endyear=2020&pvcalculation=1&optimalangles=1&lat=8.337605&lon=-13.05426&outputformat=json\n",
      "ERROR 87 --> id: 7461, message: Location over the sea. Please, select another location url: https://re.jrc.ec.europa.eu/api/v5_2/seriescalc?peakpower=1&loss=14&startyear=2020&endyear=2020&pvcalculation=1&optimalangles=1&lat=8.337642&lon=-13.05431&outputformat=json\n",
      "ERROR 88 --> id: 7462, message: Location over the sea. Please, select another location url: https://re.jrc.ec.europa.eu/api/v5_2/seriescalc?peakpower=1&loss=14&startyear=2020&endyear=2020&pvcalculation=1&optimalangles=1&lat=8.340555&lon=-13.05386&outputformat=json\n",
      "ERROR 89 --> id: 7463, message: Location over the sea. Please, select another location url: https://re.jrc.ec.europa.eu/api/v5_2/seriescalc?peakpower=1&loss=14&startyear=2020&endyear=2020&pvcalculation=1&optimalangles=1&lat=8.337626&lon=-13.05436&outputformat=json\n",
      "ERROR 90 --> id: 7464, message: Location over the sea. Please, select another location url: https://re.jrc.ec.europa.eu/api/v5_2/seriescalc?peakpower=1&loss=14&startyear=2020&endyear=2020&pvcalculation=1&optimalangles=1&lat=8.340714&lon=-13.05384&outputformat=json\n",
      "ERROR 91 --> id: 7465, message: Location over the sea. Please, select another location url: https://re.jrc.ec.europa.eu/api/v5_2/seriescalc?peakpower=1&loss=14&startyear=2020&endyear=2020&pvcalculation=1&optimalangles=1&lat=8.31989&lon=-13.06748&outputformat=json\n",
      "ERROR 92 --> id: 7466, message: Location over the sea. Please, select another location url: https://re.jrc.ec.europa.eu/api/v5_2/seriescalc?peakpower=1&loss=14&startyear=2020&endyear=2020&pvcalculation=1&optimalangles=1&lat=8.319093&lon=-13.04491&outputformat=json\n",
      "ERROR 93 --> id: 7467, message: Location over the sea. Please, select another location url: https://re.jrc.ec.europa.eu/api/v5_2/seriescalc?peakpower=1&loss=14&startyear=2020&endyear=2020&pvcalculation=1&optimalangles=1&lat=8.314039&lon=-13.04523&outputformat=json\n",
      "ERROR 94 --> id: 7468, message: Location over the sea. Please, select another location url: https://re.jrc.ec.europa.eu/api/v5_2/seriescalc?peakpower=1&loss=14&startyear=2020&endyear=2020&pvcalculation=1&optimalangles=1&lat=8.326443&lon=-13.06716&outputformat=json\n",
      "ERROR 95 --> id: 7469, message: Location over the sea. Please, select another location url: https://re.jrc.ec.europa.eu/api/v5_2/seriescalc?peakpower=1&loss=14&startyear=2020&endyear=2020&pvcalculation=1&optimalangles=1&lat=8.314014&lon=-13.04522&outputformat=json\n",
      "ERROR 96 --> id: 7470, message: Location over the sea. Please, select another location url: https://re.jrc.ec.europa.eu/api/v5_2/seriescalc?peakpower=1&loss=14&startyear=2020&endyear=2020&pvcalculation=1&optimalangles=1&lat=8.328057&lon=-13.07409&outputformat=json\n",
      "ERROR 97 --> id: 7471, message: Location over the sea. Please, select another location url: https://re.jrc.ec.europa.eu/api/v5_2/seriescalc?peakpower=1&loss=14&startyear=2020&endyear=2020&pvcalculation=1&optimalangles=1&lat=8.328212&lon=-13.07407&outputformat=json\n",
      "ERROR 98 --> id: 7472, message: Location over the sea. Please, select another location url: https://re.jrc.ec.europa.eu/api/v5_2/seriescalc?peakpower=1&loss=14&startyear=2020&endyear=2020&pvcalculation=1&optimalangles=1&lat=8.377973&lon=-13.0944&outputformat=json\n",
      "ERROR 99 --> id: 7473, message: Location over the sea. Please, select another location url: https://re.jrc.ec.europa.eu/api/v5_2/seriescalc?peakpower=1&loss=14&startyear=2020&endyear=2020&pvcalculation=1&optimalangles=1&lat=8.378054&lon=-13.09429&outputformat=json\n",
      "ERROR 100 --> id: 7474, message: Location over the sea. Please, select another location url: https://re.jrc.ec.europa.eu/api/v5_2/seriescalc?peakpower=1&loss=14&startyear=2020&endyear=2020&pvcalculation=1&optimalangles=1&lat=8.377988&lon=-13.0944&outputformat=json\n",
      "ERROR 101 --> id: 7475, message: Location over the sea. Please, select another location url: https://re.jrc.ec.europa.eu/api/v5_2/seriescalc?peakpower=1&loss=14&startyear=2020&endyear=2020&pvcalculation=1&optimalangles=1&lat=8.399782&lon=-13.11544&outputformat=json\n"
     ]
    }
   ],
   "source": [
    "i = 0\n",
    "dfs = dict()\n",
    "dfs_error = dict()\n",
    "\n",
    "for idx, row in df.iterrows(): \n",
    "    \n",
    "    id = row['idSet'].astype(int)\n",
    "    lat = row['latitude'].astype(str)\n",
    "    lon = row['longitude'].astype(str)\n",
    "    url = get_url (lat,lon)\n",
    "\n",
    "    # _____________ get data from pvgis\n",
    "    response = requests.get(url)\n",
    "    row_json = json.loads(response.text)    \n",
    "\n",
    "    # _____________ parse data from pvgis\n",
    "    try:            \n",
    "        dfs[id] = parse_json(id, row_json) # \n",
    "        print (f'done {i}: id={id} url={url}')\n",
    "    except:\n",
    "        message = row_json['message']\n",
    "        dfs_error[id] = pd.DataFrame(dict(id=id,lat=lat,lon=lon,message=message,url=url), index=[0])\n",
    "        print (f'ERROR {i} --> id: {id}, message: {message} url: {url}')\n",
    "\n",
    "    # _____________ save partial results\n",
    "    if i > 100:  \n",
    "        save_csv(dfs, dfs_error)        \n",
    "        i = 0\n",
    "        clear_output(wait=False)\n",
    "\n",
    "    i +=1\n",
    "            \n",
    "# _____________ save final results\n",
    "save_csv(dfs, dfs_error)  \n"
   ]
  },
  {
   "cell_type": "code",
   "execution_count": 11,
   "id": "b922d57f-2871-4c61-b060-66618be37ce9",
   "metadata": {},
   "outputs": [],
   "source": [
    "\n",
    "    "
   ]
  },
  {
   "cell_type": "code",
   "execution_count": null,
   "id": "5e45ded8-f3b1-47fe-a299-9470619ee541",
   "metadata": {},
   "outputs": [],
   "source": []
  }
 ],
 "metadata": {
  "kernelspec": {
   "display_name": "Python 3",
   "language": "python",
   "name": "python3"
  },
  "language_info": {
   "codemirror_mode": {
    "name": "ipython",
    "version": 3
   },
   "file_extension": ".py",
   "mimetype": "text/x-python",
   "name": "python",
   "nbconvert_exporter": "python",
   "pygments_lexer": "ipython3",
   "version": "3.8.10"
  }
 },
 "nbformat": 4,
 "nbformat_minor": 5
}
